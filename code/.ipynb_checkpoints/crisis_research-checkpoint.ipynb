{
 "cells": [
  {
   "cell_type": "code",
   "execution_count": 1,
   "metadata": {},
   "outputs": [],
   "source": [
    "# from google.colab import drive\n",
    "# drive.mount('/content/drive')"
   ]
  },
  {
   "cell_type": "markdown",
   "metadata": {},
   "source": [
    "# 0. Preamble"
   ]
  },
  {
   "cell_type": "code",
   "execution_count": 2,
   "metadata": {},
   "outputs": [],
   "source": [
    "import pandas as pd\n",
    "import matplotlib.pyplot as plt\n",
    "import seaborn as sns\n",
    "import numpy as np\n",
    "import statsmodels.api as sm\n",
    "import statistics\n",
    "from sklearn.linear_model import LinearRegression\n",
    "import os\n",
    "import sqlite3"
   ]
  },
  {
   "cell_type": "code",
   "execution_count": 3,
   "metadata": {},
   "outputs": [],
   "source": [
    "# notebook_path = '/content/drive/MyDrive/Colab_Notebooks/ISER/code/'\n",
    "# os.chdir(notebook_path)"
   ]
  },
  {
   "cell_type": "markdown",
   "metadata": {},
   "source": [
    "In this section, I import the dataset located in the raw data folder and clean the column names."
   ]
  },
  {
   "cell_type": "code",
   "execution_count": 4,
   "metadata": {},
   "outputs": [
    {
     "ename": "FileNotFoundError",
     "evalue": "[Errno 2] No such file or directory: '../raw_data/global_crisis_data_country.csv'",
     "output_type": "error",
     "traceback": [
      "\u001b[0;31m---------------------------------------------------------------------------\u001b[0m",
      "\u001b[0;31mFileNotFoundError\u001b[0m                         Traceback (most recent call last)",
      "Cell \u001b[0;32mIn[4], line 1\u001b[0m\n\u001b[0;32m----> 1\u001b[0m data \u001b[38;5;241m=\u001b[39m \u001b[43mpd\u001b[49m\u001b[38;5;241;43m.\u001b[39;49m\u001b[43mread_csv\u001b[49m\u001b[43m(\u001b[49m\u001b[38;5;124;43m\"\u001b[39;49m\u001b[38;5;124;43m../raw_data/global_crisis_data_country.csv\u001b[39;49m\u001b[38;5;124;43m\"\u001b[39;49m\u001b[43m,\u001b[49m\u001b[43m \u001b[49m\u001b[43mencoding\u001b[49m\u001b[38;5;241;43m=\u001b[39;49m\u001b[38;5;124;43m'\u001b[39;49m\u001b[38;5;124;43municode_escape\u001b[39;49m\u001b[38;5;124;43m'\u001b[39;49m\u001b[43m)\u001b[49m\n",
      "File \u001b[0;32m~/.pyenv/versions/3.10.6/envs/ISER/lib/python3.10/site-packages/pandas/util/_decorators.py:211\u001b[0m, in \u001b[0;36mdeprecate_kwarg.<locals>._deprecate_kwarg.<locals>.wrapper\u001b[0;34m(*args, **kwargs)\u001b[0m\n\u001b[1;32m    209\u001b[0m     \u001b[38;5;28;01melse\u001b[39;00m:\n\u001b[1;32m    210\u001b[0m         kwargs[new_arg_name] \u001b[38;5;241m=\u001b[39m new_arg_value\n\u001b[0;32m--> 211\u001b[0m \u001b[38;5;28;01mreturn\u001b[39;00m \u001b[43mfunc\u001b[49m\u001b[43m(\u001b[49m\u001b[38;5;241;43m*\u001b[39;49m\u001b[43margs\u001b[49m\u001b[43m,\u001b[49m\u001b[43m \u001b[49m\u001b[38;5;241;43m*\u001b[39;49m\u001b[38;5;241;43m*\u001b[39;49m\u001b[43mkwargs\u001b[49m\u001b[43m)\u001b[49m\n",
      "File \u001b[0;32m~/.pyenv/versions/3.10.6/envs/ISER/lib/python3.10/site-packages/pandas/util/_decorators.py:331\u001b[0m, in \u001b[0;36mdeprecate_nonkeyword_arguments.<locals>.decorate.<locals>.wrapper\u001b[0;34m(*args, **kwargs)\u001b[0m\n\u001b[1;32m    325\u001b[0m \u001b[38;5;28;01mif\u001b[39;00m \u001b[38;5;28mlen\u001b[39m(args) \u001b[38;5;241m>\u001b[39m num_allow_args:\n\u001b[1;32m    326\u001b[0m     warnings\u001b[38;5;241m.\u001b[39mwarn(\n\u001b[1;32m    327\u001b[0m         msg\u001b[38;5;241m.\u001b[39mformat(arguments\u001b[38;5;241m=\u001b[39m_format_argument_list(allow_args)),\n\u001b[1;32m    328\u001b[0m         \u001b[38;5;167;01mFutureWarning\u001b[39;00m,\n\u001b[1;32m    329\u001b[0m         stacklevel\u001b[38;5;241m=\u001b[39mfind_stack_level(),\n\u001b[1;32m    330\u001b[0m     )\n\u001b[0;32m--> 331\u001b[0m \u001b[38;5;28;01mreturn\u001b[39;00m \u001b[43mfunc\u001b[49m\u001b[43m(\u001b[49m\u001b[38;5;241;43m*\u001b[39;49m\u001b[43margs\u001b[49m\u001b[43m,\u001b[49m\u001b[43m \u001b[49m\u001b[38;5;241;43m*\u001b[39;49m\u001b[38;5;241;43m*\u001b[39;49m\u001b[43mkwargs\u001b[49m\u001b[43m)\u001b[49m\n",
      "File \u001b[0;32m~/.pyenv/versions/3.10.6/envs/ISER/lib/python3.10/site-packages/pandas/io/parsers/readers.py:950\u001b[0m, in \u001b[0;36mread_csv\u001b[0;34m(filepath_or_buffer, sep, delimiter, header, names, index_col, usecols, squeeze, prefix, mangle_dupe_cols, dtype, engine, converters, true_values, false_values, skipinitialspace, skiprows, skipfooter, nrows, na_values, keep_default_na, na_filter, verbose, skip_blank_lines, parse_dates, infer_datetime_format, keep_date_col, date_parser, dayfirst, cache_dates, iterator, chunksize, compression, thousands, decimal, lineterminator, quotechar, quoting, doublequote, escapechar, comment, encoding, encoding_errors, dialect, error_bad_lines, warn_bad_lines, on_bad_lines, delim_whitespace, low_memory, memory_map, float_precision, storage_options)\u001b[0m\n\u001b[1;32m    935\u001b[0m kwds_defaults \u001b[38;5;241m=\u001b[39m _refine_defaults_read(\n\u001b[1;32m    936\u001b[0m     dialect,\n\u001b[1;32m    937\u001b[0m     delimiter,\n\u001b[0;32m   (...)\u001b[0m\n\u001b[1;32m    946\u001b[0m     defaults\u001b[38;5;241m=\u001b[39m{\u001b[38;5;124m\"\u001b[39m\u001b[38;5;124mdelimiter\u001b[39m\u001b[38;5;124m\"\u001b[39m: \u001b[38;5;124m\"\u001b[39m\u001b[38;5;124m,\u001b[39m\u001b[38;5;124m\"\u001b[39m},\n\u001b[1;32m    947\u001b[0m )\n\u001b[1;32m    948\u001b[0m kwds\u001b[38;5;241m.\u001b[39mupdate(kwds_defaults)\n\u001b[0;32m--> 950\u001b[0m \u001b[38;5;28;01mreturn\u001b[39;00m \u001b[43m_read\u001b[49m\u001b[43m(\u001b[49m\u001b[43mfilepath_or_buffer\u001b[49m\u001b[43m,\u001b[49m\u001b[43m \u001b[49m\u001b[43mkwds\u001b[49m\u001b[43m)\u001b[49m\n",
      "File \u001b[0;32m~/.pyenv/versions/3.10.6/envs/ISER/lib/python3.10/site-packages/pandas/io/parsers/readers.py:605\u001b[0m, in \u001b[0;36m_read\u001b[0;34m(filepath_or_buffer, kwds)\u001b[0m\n\u001b[1;32m    602\u001b[0m _validate_names(kwds\u001b[38;5;241m.\u001b[39mget(\u001b[38;5;124m\"\u001b[39m\u001b[38;5;124mnames\u001b[39m\u001b[38;5;124m\"\u001b[39m, \u001b[38;5;28;01mNone\u001b[39;00m))\n\u001b[1;32m    604\u001b[0m \u001b[38;5;66;03m# Create the parser.\u001b[39;00m\n\u001b[0;32m--> 605\u001b[0m parser \u001b[38;5;241m=\u001b[39m \u001b[43mTextFileReader\u001b[49m\u001b[43m(\u001b[49m\u001b[43mfilepath_or_buffer\u001b[49m\u001b[43m,\u001b[49m\u001b[43m \u001b[49m\u001b[38;5;241;43m*\u001b[39;49m\u001b[38;5;241;43m*\u001b[39;49m\u001b[43mkwds\u001b[49m\u001b[43m)\u001b[49m\n\u001b[1;32m    607\u001b[0m \u001b[38;5;28;01mif\u001b[39;00m chunksize \u001b[38;5;129;01mor\u001b[39;00m iterator:\n\u001b[1;32m    608\u001b[0m     \u001b[38;5;28;01mreturn\u001b[39;00m parser\n",
      "File \u001b[0;32m~/.pyenv/versions/3.10.6/envs/ISER/lib/python3.10/site-packages/pandas/io/parsers/readers.py:1442\u001b[0m, in \u001b[0;36mTextFileReader.__init__\u001b[0;34m(self, f, engine, **kwds)\u001b[0m\n\u001b[1;32m   1439\u001b[0m     \u001b[38;5;28mself\u001b[39m\u001b[38;5;241m.\u001b[39moptions[\u001b[38;5;124m\"\u001b[39m\u001b[38;5;124mhas_index_names\u001b[39m\u001b[38;5;124m\"\u001b[39m] \u001b[38;5;241m=\u001b[39m kwds[\u001b[38;5;124m\"\u001b[39m\u001b[38;5;124mhas_index_names\u001b[39m\u001b[38;5;124m\"\u001b[39m]\n\u001b[1;32m   1441\u001b[0m \u001b[38;5;28mself\u001b[39m\u001b[38;5;241m.\u001b[39mhandles: IOHandles \u001b[38;5;241m|\u001b[39m \u001b[38;5;28;01mNone\u001b[39;00m \u001b[38;5;241m=\u001b[39m \u001b[38;5;28;01mNone\u001b[39;00m\n\u001b[0;32m-> 1442\u001b[0m \u001b[38;5;28mself\u001b[39m\u001b[38;5;241m.\u001b[39m_engine \u001b[38;5;241m=\u001b[39m \u001b[38;5;28;43mself\u001b[39;49m\u001b[38;5;241;43m.\u001b[39;49m\u001b[43m_make_engine\u001b[49m\u001b[43m(\u001b[49m\u001b[43mf\u001b[49m\u001b[43m,\u001b[49m\u001b[43m \u001b[49m\u001b[38;5;28;43mself\u001b[39;49m\u001b[38;5;241;43m.\u001b[39;49m\u001b[43mengine\u001b[49m\u001b[43m)\u001b[49m\n",
      "File \u001b[0;32m~/.pyenv/versions/3.10.6/envs/ISER/lib/python3.10/site-packages/pandas/io/parsers/readers.py:1735\u001b[0m, in \u001b[0;36mTextFileReader._make_engine\u001b[0;34m(self, f, engine)\u001b[0m\n\u001b[1;32m   1733\u001b[0m     \u001b[38;5;28;01mif\u001b[39;00m \u001b[38;5;124m\"\u001b[39m\u001b[38;5;124mb\u001b[39m\u001b[38;5;124m\"\u001b[39m \u001b[38;5;129;01mnot\u001b[39;00m \u001b[38;5;129;01min\u001b[39;00m mode:\n\u001b[1;32m   1734\u001b[0m         mode \u001b[38;5;241m+\u001b[39m\u001b[38;5;241m=\u001b[39m \u001b[38;5;124m\"\u001b[39m\u001b[38;5;124mb\u001b[39m\u001b[38;5;124m\"\u001b[39m\n\u001b[0;32m-> 1735\u001b[0m \u001b[38;5;28mself\u001b[39m\u001b[38;5;241m.\u001b[39mhandles \u001b[38;5;241m=\u001b[39m \u001b[43mget_handle\u001b[49m\u001b[43m(\u001b[49m\n\u001b[1;32m   1736\u001b[0m \u001b[43m    \u001b[49m\u001b[43mf\u001b[49m\u001b[43m,\u001b[49m\n\u001b[1;32m   1737\u001b[0m \u001b[43m    \u001b[49m\u001b[43mmode\u001b[49m\u001b[43m,\u001b[49m\n\u001b[1;32m   1738\u001b[0m \u001b[43m    \u001b[49m\u001b[43mencoding\u001b[49m\u001b[38;5;241;43m=\u001b[39;49m\u001b[38;5;28;43mself\u001b[39;49m\u001b[38;5;241;43m.\u001b[39;49m\u001b[43moptions\u001b[49m\u001b[38;5;241;43m.\u001b[39;49m\u001b[43mget\u001b[49m\u001b[43m(\u001b[49m\u001b[38;5;124;43m\"\u001b[39;49m\u001b[38;5;124;43mencoding\u001b[39;49m\u001b[38;5;124;43m\"\u001b[39;49m\u001b[43m,\u001b[49m\u001b[43m \u001b[49m\u001b[38;5;28;43;01mNone\u001b[39;49;00m\u001b[43m)\u001b[49m\u001b[43m,\u001b[49m\n\u001b[1;32m   1739\u001b[0m \u001b[43m    \u001b[49m\u001b[43mcompression\u001b[49m\u001b[38;5;241;43m=\u001b[39;49m\u001b[38;5;28;43mself\u001b[39;49m\u001b[38;5;241;43m.\u001b[39;49m\u001b[43moptions\u001b[49m\u001b[38;5;241;43m.\u001b[39;49m\u001b[43mget\u001b[49m\u001b[43m(\u001b[49m\u001b[38;5;124;43m\"\u001b[39;49m\u001b[38;5;124;43mcompression\u001b[39;49m\u001b[38;5;124;43m\"\u001b[39;49m\u001b[43m,\u001b[49m\u001b[43m \u001b[49m\u001b[38;5;28;43;01mNone\u001b[39;49;00m\u001b[43m)\u001b[49m\u001b[43m,\u001b[49m\n\u001b[1;32m   1740\u001b[0m \u001b[43m    \u001b[49m\u001b[43mmemory_map\u001b[49m\u001b[38;5;241;43m=\u001b[39;49m\u001b[38;5;28;43mself\u001b[39;49m\u001b[38;5;241;43m.\u001b[39;49m\u001b[43moptions\u001b[49m\u001b[38;5;241;43m.\u001b[39;49m\u001b[43mget\u001b[49m\u001b[43m(\u001b[49m\u001b[38;5;124;43m\"\u001b[39;49m\u001b[38;5;124;43mmemory_map\u001b[39;49m\u001b[38;5;124;43m\"\u001b[39;49m\u001b[43m,\u001b[49m\u001b[43m \u001b[49m\u001b[38;5;28;43;01mFalse\u001b[39;49;00m\u001b[43m)\u001b[49m\u001b[43m,\u001b[49m\n\u001b[1;32m   1741\u001b[0m \u001b[43m    \u001b[49m\u001b[43mis_text\u001b[49m\u001b[38;5;241;43m=\u001b[39;49m\u001b[43mis_text\u001b[49m\u001b[43m,\u001b[49m\n\u001b[1;32m   1742\u001b[0m \u001b[43m    \u001b[49m\u001b[43merrors\u001b[49m\u001b[38;5;241;43m=\u001b[39;49m\u001b[38;5;28;43mself\u001b[39;49m\u001b[38;5;241;43m.\u001b[39;49m\u001b[43moptions\u001b[49m\u001b[38;5;241;43m.\u001b[39;49m\u001b[43mget\u001b[49m\u001b[43m(\u001b[49m\u001b[38;5;124;43m\"\u001b[39;49m\u001b[38;5;124;43mencoding_errors\u001b[39;49m\u001b[38;5;124;43m\"\u001b[39;49m\u001b[43m,\u001b[49m\u001b[43m \u001b[49m\u001b[38;5;124;43m\"\u001b[39;49m\u001b[38;5;124;43mstrict\u001b[39;49m\u001b[38;5;124;43m\"\u001b[39;49m\u001b[43m)\u001b[49m\u001b[43m,\u001b[49m\n\u001b[1;32m   1743\u001b[0m \u001b[43m    \u001b[49m\u001b[43mstorage_options\u001b[49m\u001b[38;5;241;43m=\u001b[39;49m\u001b[38;5;28;43mself\u001b[39;49m\u001b[38;5;241;43m.\u001b[39;49m\u001b[43moptions\u001b[49m\u001b[38;5;241;43m.\u001b[39;49m\u001b[43mget\u001b[49m\u001b[43m(\u001b[49m\u001b[38;5;124;43m\"\u001b[39;49m\u001b[38;5;124;43mstorage_options\u001b[39;49m\u001b[38;5;124;43m\"\u001b[39;49m\u001b[43m,\u001b[49m\u001b[43m \u001b[49m\u001b[38;5;28;43;01mNone\u001b[39;49;00m\u001b[43m)\u001b[49m\u001b[43m,\u001b[49m\n\u001b[1;32m   1744\u001b[0m \u001b[43m\u001b[49m\u001b[43m)\u001b[49m\n\u001b[1;32m   1745\u001b[0m \u001b[38;5;28;01massert\u001b[39;00m \u001b[38;5;28mself\u001b[39m\u001b[38;5;241m.\u001b[39mhandles \u001b[38;5;129;01mis\u001b[39;00m \u001b[38;5;129;01mnot\u001b[39;00m \u001b[38;5;28;01mNone\u001b[39;00m\n\u001b[1;32m   1746\u001b[0m f \u001b[38;5;241m=\u001b[39m \u001b[38;5;28mself\u001b[39m\u001b[38;5;241m.\u001b[39mhandles\u001b[38;5;241m.\u001b[39mhandle\n",
      "File \u001b[0;32m~/.pyenv/versions/3.10.6/envs/ISER/lib/python3.10/site-packages/pandas/io/common.py:856\u001b[0m, in \u001b[0;36mget_handle\u001b[0;34m(path_or_buf, mode, encoding, compression, memory_map, is_text, errors, storage_options)\u001b[0m\n\u001b[1;32m    851\u001b[0m \u001b[38;5;28;01melif\u001b[39;00m \u001b[38;5;28misinstance\u001b[39m(handle, \u001b[38;5;28mstr\u001b[39m):\n\u001b[1;32m    852\u001b[0m     \u001b[38;5;66;03m# Check whether the filename is to be opened in binary mode.\u001b[39;00m\n\u001b[1;32m    853\u001b[0m     \u001b[38;5;66;03m# Binary mode does not support 'encoding' and 'newline'.\u001b[39;00m\n\u001b[1;32m    854\u001b[0m     \u001b[38;5;28;01mif\u001b[39;00m ioargs\u001b[38;5;241m.\u001b[39mencoding \u001b[38;5;129;01mand\u001b[39;00m \u001b[38;5;124m\"\u001b[39m\u001b[38;5;124mb\u001b[39m\u001b[38;5;124m\"\u001b[39m \u001b[38;5;129;01mnot\u001b[39;00m \u001b[38;5;129;01min\u001b[39;00m ioargs\u001b[38;5;241m.\u001b[39mmode:\n\u001b[1;32m    855\u001b[0m         \u001b[38;5;66;03m# Encoding\u001b[39;00m\n\u001b[0;32m--> 856\u001b[0m         handle \u001b[38;5;241m=\u001b[39m \u001b[38;5;28;43mopen\u001b[39;49m\u001b[43m(\u001b[49m\n\u001b[1;32m    857\u001b[0m \u001b[43m            \u001b[49m\u001b[43mhandle\u001b[49m\u001b[43m,\u001b[49m\n\u001b[1;32m    858\u001b[0m \u001b[43m            \u001b[49m\u001b[43mioargs\u001b[49m\u001b[38;5;241;43m.\u001b[39;49m\u001b[43mmode\u001b[49m\u001b[43m,\u001b[49m\n\u001b[1;32m    859\u001b[0m \u001b[43m            \u001b[49m\u001b[43mencoding\u001b[49m\u001b[38;5;241;43m=\u001b[39;49m\u001b[43mioargs\u001b[49m\u001b[38;5;241;43m.\u001b[39;49m\u001b[43mencoding\u001b[49m\u001b[43m,\u001b[49m\n\u001b[1;32m    860\u001b[0m \u001b[43m            \u001b[49m\u001b[43merrors\u001b[49m\u001b[38;5;241;43m=\u001b[39;49m\u001b[43merrors\u001b[49m\u001b[43m,\u001b[49m\n\u001b[1;32m    861\u001b[0m \u001b[43m            \u001b[49m\u001b[43mnewline\u001b[49m\u001b[38;5;241;43m=\u001b[39;49m\u001b[38;5;124;43m\"\u001b[39;49m\u001b[38;5;124;43m\"\u001b[39;49m\u001b[43m,\u001b[49m\n\u001b[1;32m    862\u001b[0m \u001b[43m        \u001b[49m\u001b[43m)\u001b[49m\n\u001b[1;32m    863\u001b[0m     \u001b[38;5;28;01melse\u001b[39;00m:\n\u001b[1;32m    864\u001b[0m         \u001b[38;5;66;03m# Binary mode\u001b[39;00m\n\u001b[1;32m    865\u001b[0m         handle \u001b[38;5;241m=\u001b[39m \u001b[38;5;28mopen\u001b[39m(handle, ioargs\u001b[38;5;241m.\u001b[39mmode)\n",
      "\u001b[0;31mFileNotFoundError\u001b[0m: [Errno 2] No such file or directory: '../raw_data/global_crisis_data_country.csv'"
     ]
    }
   ],
   "source": [
    "data = pd.read_csv(\"../raw_data/global_crisis_data_country.csv\", encoding='unicode_escape')\n"
   ]
  },
  {
   "cell_type": "code",
   "execution_count": null,
   "metadata": {},
   "outputs": [],
   "source": [
    "print(data.shape)\n",
    "data.head()"
   ]
  },
  {
   "cell_type": "code",
   "execution_count": null,
   "metadata": {},
   "outputs": [],
   "source": [
    "data.columns"
   ]
  },
  {
   "cell_type": "code",
   "execution_count": null,
   "metadata": {},
   "outputs": [],
   "source": [
    "data.drop(0, inplace = True)\n",
    "data.shape"
   ]
  },
  {
   "cell_type": "code",
   "execution_count": null,
   "metadata": {},
   "outputs": [],
   "source": [
    "data.rename(columns={'Banking Crisis ':'banking_crisis',\n",
    "                    'Systemic Crisis':'systemic_crisis',\n",
    "                    'Banking_Crisis_Notes':'notes',\n",
    "                    'Gold Standard':'gold_standard',\n",
    "                    'SOVEREIGN EXTERNAL DEBT 1: DEFAULT and RESTRUCTURINGS, 1800-2012--Does not include defaults on WWI debt to United States and United Kingdom and post-1975 defaults on Official External Creditors': 'sovereign_external_debt_1',\n",
    "                    'SOVEREIGN EXTERNAL DEBT 2: DEFAULT and RESTRUCTURINGS, 1800-2012--Does not include defaults on WWI debt to United States and United Kingdom but includes post-1975 defaults on Official External Creditors': 'sovereign_external_debt_2',\n",
    "                    'Inflation, Annual percentages of average consumer prices':'annual_inflation'},\n",
    "            inplace = True)\n",
    "data['Year'] = data['Year'].astype(int)"
   ]
  },
  {
   "cell_type": "code",
   "execution_count": null,
   "metadata": {},
   "outputs": [],
   "source": [
    "data['banking_crisis'] = pd.to_numeric(data['banking_crisis'], errors='coerce')\n",
    "data['systemic_crisis'] = pd.to_numeric(data['systemic_crisis'], errors='coerce')\n",
    "data['annual_inflation'] = pd.to_numeric(data['annual_inflation'], errors='coerce')"
   ]
  },
  {
   "cell_type": "code",
   "execution_count": null,
   "metadata": {},
   "outputs": [],
   "source": [
    "data.dtypes"
   ]
  },
  {
   "cell_type": "markdown",
   "metadata": {},
   "source": [
    "# 1. Description of the \"Global Crises Data by Country\" dataset"
   ]
  },
  {
   "cell_type": "markdown",
   "metadata": {},
   "source": [
    "## 1.1 Get the number of crisis per country"
   ]
  },
  {
   "cell_type": "code",
   "execution_count": null,
   "metadata": {},
   "outputs": [],
   "source": [
    "nb_countries = data[\"Country\"].nunique()\n",
    "min_year = data[\"Year\"].min()\n",
    "max_year = data[\"Year\"].max()\n",
    "nb_observations = max_year - min_year +1\n",
    "print(f\"There are data of {nb_countries} countries in the dataset from {min_year} to {max_year}.\")"
   ]
  },
  {
   "cell_type": "markdown",
   "metadata": {},
   "source": [
    "We are interested in the number of shocks each country encountered during the period. <br>\n",
    "Let's try to count the number of banking crisis and systemic crisis for each country."
   ]
  },
  {
   "cell_type": "code",
   "execution_count": null,
   "metadata": {},
   "outputs": [],
   "source": [
    "banking_crisis_per_country = data.groupby('Country')['banking_crisis'].sum().astype(int)\n",
    "systemic_crisis_per_country = data.groupby('Country')['systemic_crisis'].sum().astype(int)"
   ]
  },
  {
   "cell_type": "markdown",
   "metadata": {},
   "source": [
    "Note: In the data, a banking crisis and a systemic crisis can be recorded the same year."
   ]
  },
  {
   "cell_type": "code",
   "execution_count": null,
   "metadata": {},
   "outputs": [],
   "source": [
    "results = pd.DataFrame({\n",
    "                     'banking_crisis_number': banking_crisis_per_country,\n",
    "                     'systemic_crisis_number': systemic_crisis_per_country\n",
    "                     })\n",
    "results.sort_values(by='banking_crisis_number', ascending=False, inplace = True)\n",
    "results.head(10)"
   ]
  },
  {
   "cell_type": "code",
   "execution_count": null,
   "metadata": {},
   "outputs": [],
   "source": [
    "results.describe().round(1)"
   ]
  },
  {
   "cell_type": "markdown",
   "metadata": {},
   "source": [
    "## 1.2 Extract per country data"
   ]
  },
  {
   "cell_type": "markdown",
   "metadata": {},
   "source": [
    "* Data per country"
   ]
  },
  {
   "cell_type": "code",
   "execution_count": null,
   "metadata": {},
   "outputs": [],
   "source": [
    "# USA data\n",
    "USA_data = data[data[\"CC3\"]=='USA']\n",
    "# UK data\n",
    "UK_data = data[data[\"CC3\"]=='GBR']\n",
    "#France data\n",
    "FRA_data = data[data[\"CC3\"]=='FRA']\n",
    "# Japan data\n",
    "JPN_data = data[data[\"CC3\"]=='JPN']"
   ]
  },
  {
   "cell_type": "markdown",
   "metadata": {},
   "source": [
    "* Data for group of countries"
   ]
  },
  {
   "cell_type": "code",
   "execution_count": null,
   "metadata": {},
   "outputs": [],
   "source": [
    "countries_selected = ['FRA',\n",
    "                      'GBR',\n",
    "                      'USA',\n",
    "                      'ITA',\n",
    "                      'DEU',\n",
    "                      'CAN',\n",
    "                      'ESP']\n",
    "G7_data = data[data[\"CC3\"].isin(countries_selected)]"
   ]
  },
  {
   "cell_type": "markdown",
   "metadata": {},
   "source": [
    "# 2. Estimating the inflation response to liquidity shocks - focus on the USA"
   ]
  },
  {
   "cell_type": "markdown",
   "metadata": {},
   "source": [
    "## 2.2 How to record crisis in the US history?"
   ]
  },
  {
   "cell_type": "code",
   "execution_count": null,
   "metadata": {},
   "outputs": [],
   "source": [
    "banking_crisis_years = USA_data[USA_data['banking_crisis'] == 1]['Year'].tolist()\n",
    "print(f'{len(banking_crisis_years)} banking crisis are recorded in the US history.')"
   ]
  },
  {
   "cell_type": "code",
   "execution_count": null,
   "metadata": {},
   "outputs": [],
   "source": [
    "systemic_crisis_years = USA_data[USA_data['systemic_crisis'] == 1]['Year'].tolist()\n",
    "print(f'{len(systemic_crisis_years)} systemic crisis are recorded in the US history.')"
   ]
  },
  {
   "cell_type": "code",
   "execution_count": null,
   "metadata": {},
   "outputs": [],
   "source": [
    "fig, axs = plt.subplots(2, 1, figsize=(15,10))\n",
    "\n",
    "#Plot the inflation rate with banking crisis as red vertical lines\n",
    "sns.lineplot(x=USA_data['Year'], y=USA_data['annual_inflation'], label = 'annual average inflation rate', ax=axs[0])\n",
    "\n",
    "axs[0].axhline(y=0, color='orange', label='y=0', linestyle = 'dashed', alpha = 0.8)\n",
    "\n",
    "for year in banking_crisis_years:\n",
    "    axs[0].axvline(x=year, color='red', linestyle='-', label='Crisis Period', alpha = 0.3,)\n",
    "\n",
    "axs[0].set_ylim(-50, 50)\n",
    "\n",
    "axs[0].set_title('Annual inflation rate of the USA_data and years with a banking crisis')\n",
    "axs[0].set_xlabel('Year')\n",
    "axs[0].set_ylabel('Annual inflation rate')\n",
    "\n",
    "#Plot the inflation rate with systemic crisis as green vertical lines\n",
    "sns.lineplot(x=USA_data['Year'], y=USA_data['annual_inflation'], label = 'annual average inflation rate', ax=axs[1])\n",
    "\n",
    "axs[1].axhline(y=0, color='orange', label='y=0', linestyle = 'dashed', alpha = 0.8)\n",
    "\n",
    "for year in systemic_crisis_years:\n",
    "    axs[1].axvline(x=year, color='green', linestyle='-', label='Systemic crisis Period', alpha = 0.3)\n",
    "\n",
    "axs[1].set_ylim(-50, 50)\n",
    "\n",
    "axs[1].set_title('Annual inflation rate of the US and years with a systemic crisis')\n",
    "axs[1].set_xlabel('Year')\n",
    "axs[1].set_ylabel('Annual inflation rate')\n",
    "\n",
    "plt.savefig('../figures/banking_crisis_overview.png')\n",
    "plt.show()"
   ]
  },
  {
   "cell_type": "markdown",
   "metadata": {},
   "source": [
    "Comments: Systemic crisis occur in the same years as Banking crisis and we can choose to disregard them whle studying for negative demand shock. "
   ]
  },
  {
   "cell_type": "markdown",
   "metadata": {},
   "source": [
    "## 2.3 Estimate the average response to negative liquidity shock"
   ]
  },
  {
   "cell_type": "markdown",
   "metadata": {},
   "source": [
    "### 2.3.1 Defining functions to plot the data"
   ]
  },
  {
   "cell_type": "markdown",
   "metadata": {},
   "source": [
    "I first define a function that can extract a serie from 1 year previous the shock to six years after."
   ]
  },
  {
   "cell_type": "code",
   "execution_count": null,
   "metadata": {},
   "outputs": [],
   "source": [
    "def extract_inflation_series(data, target_year):\n",
    "    target_index = data[data['Year'] == target_year].index[0]\n",
    "    series = data.loc[target_index-1:target_index+6, 'annual_inflation']\n",
    "    return np.array(series)"
   ]
  },
  {
   "cell_type": "code",
   "execution_count": null,
   "metadata": {},
   "outputs": [],
   "source": [
    "years = []\n",
    "for i in range (-1,7):\n",
    "    if i<0:\n",
    "        years.append(f\"t{i}\")\n",
    "    elif i==0:\n",
    "        years.append(f\"t\")\n",
    "    else:\n",
    "        years.append(f\"t+{i}\")\n",
    "years\n"
   ]
  },
  {
   "cell_type": "markdown",
   "metadata": {},
   "source": [
    "### 2.3.2 Treat each year of crises as an individual event"
   ]
  },
  {
   "cell_type": "markdown",
   "metadata": {},
   "source": [
    "I first extract the series for each event of banking crisis in the dataset. "
   ]
  },
  {
   "cell_type": "code",
   "execution_count": null,
   "metadata": {},
   "outputs": [],
   "source": [
    "inflation_series_all = []\n",
    "for year in banking_crisis_years:\n",
    "    inflation_series_all.append(extract_inflation_series(USA_data, year))\n",
    "inflation_series_all = np.array(inflation_series_all)"
   ]
  },
  {
   "cell_type": "markdown",
   "metadata": {},
   "source": [
    "I then normalize the serie to the first data of the serie at time t-1. "
   ]
  },
  {
   "cell_type": "code",
   "execution_count": null,
   "metadata": {},
   "outputs": [],
   "source": [
    "norm_inflation_series_all = []\n",
    "for array in inflation_series_all:\n",
    "    norm_inflation_series_all.append(array - array[0])\n",
    "norm_inflation_series_all = np.array(norm_inflation_series_all)"
   ]
  },
  {
   "cell_type": "markdown",
   "metadata": {},
   "source": [
    "I compute the average pattern by taking the mean of the normalized series, and the confidence interval of the pattern defned as 1.96*(standard deviation) divided by the squared root of the number of series."
   ]
  },
  {
   "cell_type": "code",
   "execution_count": null,
   "metadata": {},
   "outputs": [],
   "source": [
    "average_pattern = np.mean(norm_inflation_series_all, axis=0)\n",
    "confidence_interval = 1.96 * np.std(norm_inflation_series_all, axis=0) / np.sqrt(norm_inflation_series_all.shape[0])"
   ]
  },
  {
   "cell_type": "code",
   "execution_count": null,
   "metadata": {},
   "outputs": [],
   "source": [
    "plt.title('Average response of the inflation rate')\n",
    "plt.fill_between(\n",
    "    range(len(average_pattern)),\n",
    "    average_pattern - confidence_interval,\n",
    "    average_pattern + confidence_interval,\n",
    "    color='blue',\n",
    "    alpha=0.1, label='95% CI'\n",
    ")\n",
    "\n",
    "sns.lineplot(x=years, y=average_pattern, label = 'Response pattern')\n",
    "plt.axhline(y=0, color='black', label='y=0', linestyle = 'dashed', alpha = 0.6)\n",
    "\n",
    "plt.xlabel('Year')\n",
    "plt.ylabel('Annual inflation rate')\n",
    "\n",
    "plt.ylim(-13,9)\n",
    "plt.show()"
   ]
  },
  {
   "cell_type": "markdown",
   "metadata": {},
   "source": [
    "### 2.3.3 Count only the beginning of the crises and treat the series as one event"
   ]
  },
  {
   "cell_type": "markdown",
   "metadata": {},
   "source": [
    "A other approach to record the crisis event in the data is to <u> consider the period when crisis occur during consecutive years only as one crisis</u> , time t being the year when the first state of crisis was recorded. "
   ]
  },
  {
   "cell_type": "code",
   "execution_count": null,
   "metadata": {},
   "outputs": [],
   "source": [
    "banking_crisis_first_year = [banking_crisis_years[0]]\n",
    "for i in range (1, len(banking_crisis_years)):\n",
    "    if banking_crisis_years[i]-banking_crisis_years[i-1]>=2:\n",
    "        banking_crisis_first_year.append(banking_crisis_years[i])\n",
    "print(f'In this aproch, we record {len(banking_crisis_first_year)} different crisis event.')"
   ]
  },
  {
   "cell_type": "code",
   "execution_count": null,
   "metadata": {},
   "outputs": [],
   "source": [
    "plt.figure(figsize=(11,6))\n",
    "\n",
    "sns.lineplot(x=USA_data['Year'], y=USA_data['annual_inflation'], label = 'annual average inflation rate')\n",
    "plt.axhline(y=0, color='orange', label='y=0', linestyle = 'dashed', alpha = 0.8)\n",
    "\n",
    "for year in banking_crisis_first_year:\n",
    "    plt.axvline(x=year, color='red', linestyle='-', label='Crisis Period', alpha = 0.3)\n",
    "\n",
    "plt.ylim(-50, 50)\n",
    "\n",
    "plt.title('Annual inflation rate of the US and years with a banking crisis')\n",
    "plt.xlabel('Year')\n",
    "plt.ylabel('Annual inflation rate')\n",
    "\n",
    "subtitle_text = \"We remove here all the banking crisis event when the crisis occurred in the year following the last crisis event\"\n",
    "plt.annotate(subtitle_text,\n",
    "             xy=(0.5, -0.15),  # Position of the text (relative to the plot)\n",
    "             xycoords='axes fraction',\n",
    "             ha='center', va='center',  # Centered text\n",
    "             fontsize=10,\n",
    "             color='gray')\n",
    "\n",
    "plt.show()"
   ]
  },
  {
   "cell_type": "markdown",
   "metadata": {},
   "source": [
    "We extract the series for the years selected, normalize them and compute the average pattern among them."
   ]
  },
  {
   "cell_type": "code",
   "execution_count": null,
   "metadata": {},
   "outputs": [],
   "source": [
    "inflation_series = []\n",
    "for year in banking_crisis_first_year:\n",
    "    series_for_year = extract_inflation_series(USA_data, year)\n",
    "    inflation_series.append(series_for_year)\n",
    "inflation_series = np.array(inflation_series)"
   ]
  },
  {
   "cell_type": "code",
   "execution_count": null,
   "metadata": {},
   "outputs": [],
   "source": [
    "norm_inflation_series = []\n",
    "for array in inflation_series:\n",
    "    norm_inflation_series.append(array - array[0])\n",
    "norm_inflation_series = np.array(norm_inflation_series)"
   ]
  },
  {
   "cell_type": "code",
   "execution_count": null,
   "metadata": {},
   "outputs": [],
   "source": [
    "average_pattern = np.mean(norm_inflation_series, axis=0)\n",
    "confidence_interval = 1.96 * np.std(norm_inflation_series, axis=0) / np.sqrt(norm_inflation_series.shape[0])"
   ]
  },
  {
   "cell_type": "code",
   "execution_count": null,
   "metadata": {},
   "outputs": [],
   "source": [
    "plt.fill_between(\n",
    "    range(len(average_pattern)),\n",
    "    average_pattern - confidence_interval,\n",
    "    average_pattern + confidence_interval,\n",
    "    color='blue',\n",
    "    alpha=0.1, label='95% CI'\n",
    ")\n",
    "\n",
    "sns.lineplot(x=years, y=average_pattern, label = 'Response pattern')\n",
    "plt.axhline(y=0, color='black', label='y=0', linestyle = 'dashed', alpha = 0.6)\n",
    "\n",
    "plt.title('Average response of the inflation rate')\n",
    "plt.xlabel('Year')\n",
    "plt.ylabel('Annual inflation rate')\n",
    "\n",
    "plt.ylim(-13,9)\n",
    "plt.show()"
   ]
  },
  {
   "cell_type": "markdown",
   "metadata": {},
   "source": [
    "### 2.3.4 Count only the beginning of the crises and treat the series as one event with adding a larger weight on a multi-year crisis"
   ]
  },
  {
   "cell_type": "markdown",
   "metadata": {},
   "source": [
    "An other approach is still to consider the first year of crisis as the event of the crisis, but to also computing the average pattern of the inflation rate with the weights of the duration of the crisis. For example, a crisis that last for three years will count three time as much as a crisis that last for one year only. <br>  \n",
    "We first need to extract the length of each of the crisis event recorded. "
   ]
  },
  {
   "cell_type": "code",
   "execution_count": null,
   "metadata": {},
   "outputs": [],
   "source": [
    "crisis_duration = []\n",
    "current_length = 0\n",
    "\n",
    "for value in USA_data['banking_crisis']:\n",
    "    if value == 1:\n",
    "        current_length += 1\n",
    "    elif current_length > 0:\n",
    "        crisis_duration.append(current_length)\n",
    "        current_length = 0\n",
    "\n",
    "# Check if the last sequence extends to the end of the dataset\n",
    "if current_length > 0:\n",
    "    crisis_duration.append(current_length)\n",
    "\n",
    "print(crisis_duration)"
   ]
  },
  {
   "cell_type": "code",
   "execution_count": null,
   "metadata": {},
   "outputs": [],
   "source": [
    "len(crisis_duration)"
   ]
  },
  {
   "cell_type": "code",
   "execution_count": null,
   "metadata": {},
   "outputs": [],
   "source": [
    "weighted_average_pattern = np.average(norm_inflation_series, axis=0, weights=crisis_duration)\n",
    "weighted_std = np.sqrt(np.average((norm_inflation_series - weighted_average_pattern)**2, axis=0, weights=crisis_duration))\n",
    "weighted_confidence_interval = 1.96 * weighted_std / np.sqrt(sum(crisis_duration))"
   ]
  },
  {
   "cell_type": "code",
   "execution_count": null,
   "metadata": {},
   "outputs": [],
   "source": [
    "plt.fill_between(\n",
    "    range(len(weighted_average_pattern)),\n",
    "    weighted_average_pattern - confidence_interval,\n",
    "    weighted_average_pattern + confidence_interval,\n",
    "    color='blue',\n",
    "    alpha=0.1, label='95% CI'\n",
    ")\n",
    "\n",
    "sns.lineplot(x=years, y=weighted_average_pattern, label = 'Response pattern')\n",
    "plt.axhline(y=0, color='black', label='y=0', linestyle = 'dashed', alpha = 0.6)\n",
    "\n",
    "plt.title('Weighted average response of the inflation rate')\n",
    "plt.xlabel('Year')\n",
    "plt.ylabel('Annual inflation rate')\n",
    "\n",
    "plt.ylim(-13,9)\n",
    "plt.show()"
   ]
  },
  {
   "cell_type": "markdown",
   "metadata": {},
   "source": [
    "### 2.3.5 Estimate the response for single year and multi-year crisis separately"
   ]
  },
  {
   "cell_type": "markdown",
   "metadata": {},
   "source": [
    "We are interested in noticing the difference of response when the crisis hits the economy multiple time or a single time "
   ]
  },
  {
   "cell_type": "markdown",
   "metadata": {},
   "source": [
    "#### 2.3.5.1 Single year crisis"
   ]
  },
  {
   "cell_type": "code",
   "execution_count": null,
   "metadata": {},
   "outputs": [],
   "source": [
    "#Create an empty list\n",
    "single_year_norm_inflation_series = []\n",
    "#Appending the series for single year crisis\n",
    "for i in range (0,len(norm_inflation_series)):\n",
    "    if crisis_duration[i] == 1:\n",
    "        single_year_norm_inflation_series.append(norm_inflation_series[i])\n",
    "#Convert the list to a Numpy array\n",
    "single_year_norm_inflation_series = np.array(single_year_norm_inflation_series)\n",
    "single_year_norm_inflation_series"
   ]
  },
  {
   "cell_type": "code",
   "execution_count": null,
   "metadata": {},
   "outputs": [],
   "source": [
    "single_year_average_pattern = np.mean(single_year_norm_inflation_series, axis=0)\n",
    "single_year_confidence_interval = 1.96 * np.std(single_year_norm_inflation_series, axis=0) / np.sqrt(single_year_norm_inflation_series.shape[0])"
   ]
  },
  {
   "cell_type": "code",
   "execution_count": null,
   "metadata": {},
   "outputs": [],
   "source": [
    "plt.fill_between(\n",
    "    range(len(single_year_average_pattern)),\n",
    "    single_year_average_pattern - single_year_confidence_interval,\n",
    "    single_year_average_pattern + single_year_confidence_interval,\n",
    "    color='blue',\n",
    "    alpha=0.1, label='95% CI'\n",
    ")\n",
    "\n",
    "sns.lineplot(x=years, y=single_year_average_pattern, label = 'Response pattern')\n",
    "plt.axhline(y=0, color='black', label='y=0', linestyle = 'dashed', alpha = 0.6)\n",
    "\n",
    "plt.title('Average response in the annual inflation rate to single-year crisis in the US history')\n",
    "plt.xlabel('Year')\n",
    "plt.ylabel('Annual inflation rate')\n",
    "\n",
    "plt.ylim(-13,9)\n",
    "plt.show()"
   ]
  },
  {
   "cell_type": "markdown",
   "metadata": {},
   "source": [
    "#### 2.3.5.2 Multiyear crisis"
   ]
  },
  {
   "cell_type": "code",
   "execution_count": null,
   "metadata": {},
   "outputs": [],
   "source": [
    "multi_year_crisis_duration = []\n",
    "for i in range (0, len(crisis_duration)):\n",
    "    if crisis_duration[i] >1:\n",
    "        multi_year_crisis_duration.append(crisis_duration[i])\n",
    "multi_year_crisis_duration"
   ]
  },
  {
   "cell_type": "code",
   "execution_count": null,
   "metadata": {},
   "outputs": [],
   "source": [
    "#Create an empty list\n",
    "multi_year_norm_inflation_series = []\n",
    "#Appending the series for single year crisis\n",
    "for i in range (0,len(norm_inflation_series)):\n",
    "    if crisis_duration[i] > 1:\n",
    "        multi_year_norm_inflation_series.append(norm_inflation_series[i])\n",
    "#Convert the list to a Numpy array\n",
    "multi_year_norm_inflation_series = np.array(multi_year_norm_inflation_series)"
   ]
  },
  {
   "cell_type": "code",
   "execution_count": null,
   "metadata": {},
   "outputs": [],
   "source": [
    "multi_year_weighted_average_pattern = np.average(multi_year_norm_inflation_series, axis=0, weights=multi_year_crisis_duration)\n",
    "multi_year_weighted_std = np.sqrt(np.average((multi_year_norm_inflation_series - multi_year_weighted_average_pattern)**2, axis=0, weights=multi_year_crisis_duration))\n",
    "multi_year_weighted_confidence_interval = 1.96 * multi_year_weighted_std / np.sqrt(sum(multi_year_crisis_duration))"
   ]
  },
  {
   "cell_type": "code",
   "execution_count": null,
   "metadata": {},
   "outputs": [],
   "source": [
    "plt.fill_between(\n",
    "    range(len(multi_year_weighted_average_pattern)),\n",
    "    multi_year_weighted_average_pattern - multi_year_weighted_confidence_interval,\n",
    "    multi_year_weighted_average_pattern + multi_year_weighted_confidence_interval,\n",
    "    color='blue',\n",
    "    alpha=0.1, label='95% CI'\n",
    ")\n",
    "\n",
    "sns.lineplot(x=years, y=multi_year_weighted_average_pattern, label = 'Response pattern')\n",
    "plt.axhline(y=0, color='black', label='y=0', linestyle = 'dashed', alpha = 0.6)\n",
    "\n",
    "plt.title('Average response in the annual inflation rate to multi-year crisis in the US history')\n",
    "plt.xlabel('Year')\n",
    "plt.ylabel('Annual inflation rate')\n",
    "\n",
    "plt.ylim(-13,9)\n",
    "plt.show()"
   ]
  },
  {
   "cell_type": "markdown",
   "metadata": {},
   "source": [
    "# 3. Estimating the GDP response to liquidity shocks - focus on the USA"
   ]
  },
  {
   "cell_type": "markdown",
   "metadata": {},
   "source": [
    "I use here the GDP data provided by the Maddison Project Database in 2020. The database covers 169 countries and the period up to 2018. "
   ]
  },
  {
   "cell_type": "markdown",
   "metadata": {},
   "source": [
    "## 3.1 Extract the US data"
   ]
  },
  {
   "cell_type": "code",
   "execution_count": null,
   "metadata": {},
   "outputs": [],
   "source": [
    "GDP_pc = pd.read_csv('../raw_data/gdp-per-capita-maddison.csv')\n",
    "GDP_pc.drop(columns='417485-annotations', inplace = True)\n",
    "GDP_pc.rename(columns={'GDP per capita':'GDP_per_capita'}, inplace = True)\n",
    "GDP_pc.dtypes"
   ]
  },
  {
   "cell_type": "code",
   "execution_count": null,
   "metadata": {},
   "outputs": [],
   "source": [
    "US_GDP_pc = GDP_pc.loc[GDP_pc['Entity']=='United States']\n",
    "US_GDP_pc.head()"
   ]
  },
  {
   "cell_type": "code",
   "execution_count": null,
   "metadata": {},
   "outputs": [],
   "source": [
    "plt.figure(figsize=(10,6))\n",
    "\n",
    "sns.lineplot(x=US_GDP_pc['Year'], y=US_GDP_pc['GDP_per_capita'], label = 'GDP per capita')\n",
    "\n",
    "plt.title('Real GDP per capita in the US (in 2011$)')\n",
    "\n",
    "plt.xlabel('Year')\n",
    "plt.ylabel('GDP per capita')\n",
    "\n",
    "plt.annotate('Source : Maddison Project, 2020', (0,0), (-80,-20), fontsize=8,\n",
    "             xycoords='axes fraction', textcoords='offset points', va='top')\n",
    "\n",
    "plt.show()"
   ]
  },
  {
   "cell_type": "markdown",
   "metadata": {},
   "source": [
    "## 3.2 Compute the output gap"
   ]
  },
  {
   "cell_type": "markdown",
   "metadata": {},
   "source": [
    "### 3.2.1 Detrend output"
   ]
  },
  {
   "cell_type": "code",
   "execution_count": null,
   "metadata": {},
   "outputs": [],
   "source": [
    "smoothing_param = [100, 1600, 10000]\n",
    "for lam in smoothing_param:\n",
    "    cycle, trend = sm.tsa.filters.hpfilter(US_GDP_pc.GDP_per_capita, lamb=lam)\n",
    "\n",
    "    # Plot the original GDP, trend, and cycle\n",
    "    sns.lineplot(x=US_GDP_pc.Year, y=US_GDP_pc.GDP_per_capita, label = 'GDP per capita')\n",
    "    sns.lineplot(x=US_GDP_pc.Year, y=trend, label = 'Trend', color = 'red')\n",
    "    sns.lineplot(x=US_GDP_pc.Year, y=cycle, label = 'Cycle', color = 'green')\n",
    "\n",
    "    plt.xlim((1800, 2016))\n",
    "\n",
    "    plt.title(f'HP filter with lambda = {lam}')\n",
    "    plt.xlabel('Year')\n",
    "    plt.legend()\n",
    "    plt.show()\n"
   ]
  },
  {
   "cell_type": "code",
   "execution_count": null,
   "metadata": {},
   "outputs": [],
   "source": [
    "cycle, trend = sm.tsa.filters.hpfilter(US_GDP_pc.GDP_per_capita, lamb=1600)"
   ]
  },
  {
   "cell_type": "code",
   "execution_count": null,
   "metadata": {},
   "outputs": [],
   "source": [
    "# Plot the original GDP, trend, and cycle\n",
    "plt.figure(figsize=(12, 6))\n",
    "\n",
    "sns.lineplot(x=US_GDP_pc.Year, y=US_GDP_pc.GDP_per_capita, label = 'GDP per capita')\n",
    "sns.lineplot(x=US_GDP_pc.Year, y=trend, label = 'Trend', color = 'red')\n",
    "sns.lineplot(x=US_GDP_pc.Year, y=cycle, label = 'Cycle', color = 'green')\n",
    "\n",
    "plt.xlim((1800, 2016))\n",
    "\n",
    "plt.title('Real GDP per capita in the US with Hodrick-Prescott Filter')\n",
    "plt.xlabel('Year')\n",
    "plt.legend()\n",
    "plt.show()"
   ]
  },
  {
   "cell_type": "code",
   "execution_count": null,
   "metadata": {},
   "outputs": [],
   "source": [
    "trend_deviation = pd.DataFrame({\n",
    "    'Year' : US_GDP_pc.Year,\n",
    "    'output_gap' : ((US_GDP_pc.GDP_per_capita - trend)/trend)*100})\n",
    "trend_deviation.head()"
   ]
  },
  {
   "cell_type": "code",
   "execution_count": null,
   "metadata": {},
   "outputs": [],
   "source": [
    "plt.figure(figsize=(12, 6))\n",
    "\n",
    "sns.lineplot(x=trend_deviation.Year, y=trend_deviation['output_gap'], label = '% output gap')\n",
    "plt.axhline(y=0, color='orange', label='y=0', linestyle = 'dashed', alpha = 0.8)\n",
    "\n",
    "plt.title('Pourcentage of deviation from the HP trend of the US GDP per capita : 100*(GDP_pc - HP_trend)/HP_trend')\n",
    "plt.xlabel('Year')\n",
    "plt.xlim((1800, 2016))\n",
    "plt.ylim((35,-35))\n",
    "\n",
    "plt.legend()\n",
    "plt.show()"
   ]
  },
  {
   "cell_type": "code",
   "execution_count": null,
   "metadata": {},
   "outputs": [],
   "source": [
    "plt.figure(figsize=(12, 6))\n",
    "\n",
    "sns.lineplot(x=US_GDP_pc.Year, y=cycle)\n",
    "plt.axhline(y=0, color='orange', label='y=0', linestyle = 'dashed', alpha = 0.8)\n",
    "\n",
    "plt.title('HP cycle of the US GDP per capita')\n",
    "plt.xlabel('Year')\n",
    "plt.ylabel('')\n",
    "\n",
    "plt.xlim((1800, 2016))\n",
    "\n",
    "plt.show()"
   ]
  },
  {
   "cell_type": "markdown",
   "metadata": {},
   "source": [
    "### 3.2.2 With output gap data"
   ]
  },
  {
   "cell_type": "markdown",
   "metadata": {},
   "source": [
    "I take the quaterly data of Real Potential GDP issued by FRED from 1950 to 2025. I want to convert the data to annual data fr comparison purpose with my previous work."
   ]
  },
  {
   "cell_type": "code",
   "execution_count": null,
   "metadata": {},
   "outputs": [],
   "source": [
    "US_GDPPOT = pd.read_csv('../raw_data/USA/GDPPOT.csv')\n",
    "US_GDPPOT['DATE'] = pd.to_datetime(US_GDPPOT['DATE'])\n",
    "US_GDPPOT.head()"
   ]
  },
  {
   "cell_type": "code",
   "execution_count": null,
   "metadata": {},
   "outputs": [],
   "source": [
    "# Resample the data to annual frequency by taking the mean of the quarters for each year\n",
    "US_GDPPOT_annual = US_GDPPOT.resample('A', on='DATE').mean()\n",
    "US_GDPPOT_annual.reset_index(inplace=True)\n",
    "US_GDPPOT_annual['DATE'] = US_GDPPOT_annual['DATE'].dt.year\n",
    "\n",
    "#As the data is expressed in Billions of Dollars, I multiply the TS by 10**9.\n",
    "US_GDPPOT_annual['GDPPOT'] = US_GDPPOT_annual['GDPPOT']*10**9\n",
    "\n",
    "#Filter the data from 1950 to 2018.\n",
    "US_GDPPOT_annual = US_GDPPOT_annual[(US_GDPPOT_annual['DATE'] >= 1950) & (US_GDPPOT_annual['DATE'] <= 2018)]\n",
    "US_GDPPOT_annual.set_index('DATE', inplace= True)"
   ]
  },
  {
   "cell_type": "markdown",
   "metadata": {},
   "source": [
    "I import a database of the population in the US to compute the Real Potential GDP per capita."
   ]
  },
  {
   "cell_type": "code",
   "execution_count": null,
   "metadata": {},
   "outputs": [],
   "source": [
    "US_pop =pd.read_csv('../raw_data/USA/Population.csv')\n",
    "US_pop.DATE = pd.to_datetime(US_pop.DATE)\n",
    "US_pop['DATE'] = US_pop['DATE'].dt.year\n",
    "\n",
    "#As the data is expressed in Thousands, I multiply the TS by 10**3.\n",
    "US_pop['POPULATION'] = US_pop['POPULATION']*10**3\n",
    "\n",
    "#Filter the data from 1950 to 2018.\n",
    "US_pop = US_pop[(US_pop['DATE'] >= 1950) & (US_pop['DATE'] <= 2018)]\n",
    "US_pop.set_index('DATE', inplace= True)"
   ]
  },
  {
   "cell_type": "code",
   "execution_count": null,
   "metadata": {},
   "outputs": [],
   "source": [
    "US_GDPPOT_pc = pd.DataFrame({'GDPPOT_pc':US_GDPPOT_annual['GDPPOT']/US_pop['POPULATION']})\n",
    "US_GDPPOT_pc.head()"
   ]
  },
  {
   "cell_type": "code",
   "execution_count": null,
   "metadata": {},
   "outputs": [],
   "source": [
    "plt.figure(figsize=(12, 6))\n",
    "\n",
    "sns.lineplot(x=US_GDPPOT_pc.index, y=US_GDPPOT_pc['GDPPOT_pc'])\n",
    "\n",
    "plt.title('US Real potential GDP per capita')\n",
    "plt.xlabel('Year')\n",
    "plt.ylabel('')\n",
    "\n",
    "plt.show()"
   ]
  },
  {
   "cell_type": "markdown",
   "metadata": {},
   "source": [
    "We now compute the output gap by using the US_GDP_pc database. "
   ]
  },
  {
   "cell_type": "code",
   "execution_count": null,
   "metadata": {},
   "outputs": [],
   "source": [
    "US_GDP_pc_filtered = US_GDP_pc[(US_GDP_pc['Year'] >= 1950) & (US_GDP_pc['Year'] <= 2018)]\n",
    "US_GDP_pc_filtered.set_index(US_GDPPOT_pc.index, inplace=True)\n",
    "\n",
    "#Compute the pourcentage of deviation of the output gap\n",
    "Percent_output_gap = 100*(US_GDP_pc_filtered['GDP_per_capita'] - US_GDPPOT_pc['GDPPOT_pc'])/US_GDPPOT_pc['GDPPOT_pc']\n",
    "\n",
    "Percent_output_gap = pd.DataFrame({'%_Output_gap_pc': Percent_output_gap})\n",
    "Percent_output_gap.head()"
   ]
  },
  {
   "cell_type": "code",
   "execution_count": null,
   "metadata": {},
   "outputs": [],
   "source": [
    "plt.figure(figsize=(12, 6))\n",
    "\n",
    "sns.lineplot(x=Percent_output_gap.index, y=Percent_output_gap['%_Output_gap_pc'])\n",
    "\n",
    "plt.axhline(y=0, color='orange', label='y=0', linestyle = 'dashed', alpha = 0.8)\n",
    "\n",
    "plt.title('US Output gap per capita: 100*(Real GDP pc - Real pot GDP pc)/Real pot GDP pc')\n",
    "plt.xlabel('Year')\n",
    "plt.ylabel('')\n",
    "\n",
    "plt.xlim(1950,2018)\n",
    "\n",
    "plt.show()"
   ]
  },
  {
   "cell_type": "markdown",
   "metadata": {},
   "source": [
    "## 3.3 Compute the shock response in the output gap"
   ]
  },
  {
   "cell_type": "markdown",
   "metadata": {},
   "source": [
    "### 3.3.1 Define functions to plot the data"
   ]
  },
  {
   "cell_type": "markdown",
   "metadata": {},
   "source": [
    "I first define a function to extract the data from the dataset. "
   ]
  },
  {
   "cell_type": "code",
   "execution_count": null,
   "metadata": {},
   "outputs": [],
   "source": [
    "def extract_output_gap_series(data, target_year):\n",
    "    target_index = data[data['Year'] == target_year].index[0]\n",
    "    series = data.loc[target_index-1:target_index+6, 'output_gap']\n",
    "    return np.array(series)"
   ]
  },
  {
   "cell_type": "markdown",
   "metadata": {},
   "source": [
    "### 3.3.2 Treat each year of crises as an individual event"
   ]
  },
  {
   "cell_type": "markdown",
   "metadata": {},
   "source": [
    "I first extract the series for each event of banking crisis in the dataset. "
   ]
  },
  {
   "cell_type": "code",
   "execution_count": null,
   "metadata": {},
   "outputs": [],
   "source": [
    "output_gap_series_all = []\n",
    "for year in banking_crisis_years:\n",
    "    output_gap_series_all.append(extract_output_gap_series(trend_deviation, year))\n",
    "output_gap_series_all = np.array(output_gap_series_all)"
   ]
  },
  {
   "cell_type": "markdown",
   "metadata": {},
   "source": [
    "I then normalize the serie to the first data of the serie at time t-1. "
   ]
  },
  {
   "cell_type": "code",
   "execution_count": null,
   "metadata": {},
   "outputs": [],
   "source": [
    "norm_output_gap_series_all = []\n",
    "for array in output_gap_series_all:\n",
    "    norm_output_gap_series_all.append(array - array[0])\n",
    "norm_output_gap_series_all = np.array(norm_output_gap_series_all)"
   ]
  },
  {
   "cell_type": "markdown",
   "metadata": {},
   "source": [
    "I compute the average pattern by taking the mean of the normalized series, and the confidence interval of the pattern defned as 1.96*(standard deviation) divided by the squared root of the number of series."
   ]
  },
  {
   "cell_type": "code",
   "execution_count": null,
   "metadata": {},
   "outputs": [],
   "source": [
    "average_pattern_output_gap_all = np.mean(output_gap_series_all, axis=0)\n",
    "confidence_interval_output_gap_all = 1.96 * np.std(output_gap_series_all, axis=0) / np.sqrt(output_gap_series_all.shape[0])"
   ]
  },
  {
   "cell_type": "code",
   "execution_count": null,
   "metadata": {},
   "outputs": [],
   "source": [
    "plt.title('Average response of the % output gap')\n",
    "plt.fill_between(\n",
    "    range(len(average_pattern_output_gap_all)),\n",
    "    average_pattern_output_gap_all - confidence_interval_output_gap_all,\n",
    "    average_pattern_output_gap_all + confidence_interval_output_gap_all,\n",
    "    color='blue',\n",
    "    alpha=0.1, label='95% CI'\n",
    ")\n",
    "\n",
    "sns.lineplot(x=years, y=average_pattern_output_gap_all, label = 'Response pattern')\n",
    "plt.axhline(y=0, color='black', label='y=0', linestyle = 'dashed', alpha = 0.6)\n",
    "\n",
    "plt.xlabel('Year')\n",
    "plt.ylabel('% output gap')\n",
    "\n",
    "plt.ylim(-7,7)\n",
    "plt.show()"
   ]
  },
  {
   "cell_type": "markdown",
   "metadata": {},
   "source": [
    "### 3.3.3 Count only the beginning of the crises and treat the series as one event"
   ]
  },
  {
   "cell_type": "markdown",
   "metadata": {},
   "source": [
    "I plot the output gap series with the banking crisis year."
   ]
  },
  {
   "cell_type": "code",
   "execution_count": null,
   "metadata": {},
   "outputs": [],
   "source": [
    "plt.figure(figsize=(11,6))\n",
    "\n",
    "sns.lineplot(x=trend_deviation.Year, y=trend_deviation['output_gap'], label = '% output gap')\n",
    "plt.axhline(y=0, color='orange', label='y=0', linestyle = 'dashed', alpha = 0.8)\n",
    "\n",
    "for year in banking_crisis_first_year:\n",
    "    plt.axvline(x=year, color='red', linestyle='-', label='Crisis Period', alpha = 0.3)\n",
    "\n",
    "plt.xlim((1800, 2016))\n",
    "plt.ylim((15,-15))\n",
    "\n",
    "plt.title('100*(GDP_pc - HP_trend)/HP_trend and years with a banking crisis')\n",
    "plt.xlabel('Year')\n",
    "plt.ylabel('% Output gap')\n",
    "\n",
    "subtitle_text = \"We remove here all the banking crisis event when the crisis occurred in the year following the last crisis event\"\n",
    "plt.annotate(subtitle_text,\n",
    "             xy=(0.5, -0.15),  # Position of the text (relative to the plot)\n",
    "             xycoords='axes fraction',\n",
    "             ha='center', va='center',  # Centered text\n",
    "             fontsize=10,\n",
    "             color='gray')\n",
    "\n",
    "plt.show()"
   ]
  },
  {
   "cell_type": "markdown",
   "metadata": {},
   "source": [
    "I extract a serie of the output gap for each banking crisis year, normalize them to time t-1 and compute the averagere response. "
   ]
  },
  {
   "cell_type": "code",
   "execution_count": null,
   "metadata": {},
   "outputs": [],
   "source": [
    "output_gap_series = []\n",
    "for year in banking_crisis_first_year:\n",
    "    output_series_for_year = extract_output_gap_series(trend_deviation, year)\n",
    "    output_gap_series.append(output_series_for_year)\n",
    "output_gap_series = np.array(output_gap_series)"
   ]
  },
  {
   "cell_type": "code",
   "execution_count": null,
   "metadata": {},
   "outputs": [],
   "source": [
    "norm_output_gap_series = []\n",
    "for array in output_gap_series:\n",
    "    norm_output_gap_series.append(array - array[0])\n",
    "norm_output_gap_series = np.array(norm_output_gap_series)"
   ]
  },
  {
   "cell_type": "code",
   "execution_count": null,
   "metadata": {},
   "outputs": [],
   "source": [
    "average_pattern_output_gap = np.mean(output_gap_series, axis=0)\n",
    "confidence_interval_output_gap = 1.96 * np.std(output_gap_series, axis=0) / np.sqrt(output_gap_series.shape[0])"
   ]
  },
  {
   "cell_type": "code",
   "execution_count": null,
   "metadata": {
    "scrolled": true
   },
   "outputs": [],
   "source": [
    "plt.fill_between(\n",
    "    range(len(average_pattern_output_gap)),\n",
    "    average_pattern_output_gap - confidence_interval_output_gap,\n",
    "    average_pattern_output_gap + confidence_interval_output_gap,\n",
    "    color='blue',\n",
    "    alpha=0.1, label='95% CI'\n",
    ")\n",
    "\n",
    "sns.lineplot(x=years, y=average_pattern_output_gap, label = 'Response pattern')\n",
    "plt.axhline(y=0, color='black', label='y=0', linestyle = 'dashed', alpha = 0.6)\n",
    "\n",
    "plt.title('Average response of the % of the output gap')\n",
    "plt.xlabel('Year')\n",
    "plt.ylabel('Annual inflation rate')\n",
    "\n",
    "plt.ylim(-7,7)\n",
    "plt.show()"
   ]
  },
  {
   "cell_type": "markdown",
   "metadata": {},
   "source": [
    "### 3.4.4 Count only the beginning of the crisis and the treat the series as one event with weights of the duration of the crisis"
   ]
  },
  {
   "cell_type": "code",
   "execution_count": null,
   "metadata": {},
   "outputs": [],
   "source": [
    "weighted_average_pattern_output_gap = np.average(output_gap_series, axis=0, weights=crisis_duration)\n",
    "weighted_std_output_gap = np.sqrt(np.average((output_gap_series - weighted_average_pattern_output_gap)**2, axis=0, weights=crisis_duration))\n",
    "weighted_confidence_interval_output_gap = 1.96 * weighted_std_output_gap / np.sqrt(sum(crisis_duration))"
   ]
  },
  {
   "cell_type": "code",
   "execution_count": null,
   "metadata": {},
   "outputs": [],
   "source": [
    "plt.fill_between(\n",
    "    range(len(weighted_average_pattern_output_gap)),\n",
    "    weighted_average_pattern_output_gap - weighted_confidence_interval_output_gap,\n",
    "    weighted_average_pattern_output_gap + weighted_confidence_interval_output_gap,\n",
    "    color='blue',\n",
    "    alpha=0.1, label='95% CI'\n",
    ")\n",
    "\n",
    "sns.lineplot(x=years, y=weighted_average_pattern_output_gap, label = 'Response pattern')\n",
    "plt.axhline(y=0, color='black', label='y=0', linestyle = 'dashed', alpha = 0.6)\n",
    "\n",
    "plt.title('Weighted average response of the % of deviation of the GPD pc from the trend')\n",
    "plt.xlabel('Year')\n",
    "plt.ylabel('Annual inflation rate')\n",
    "\n",
    "plt.ylim(-13,9)\n",
    "plt.show()"
   ]
  },
  {
   "cell_type": "markdown",
   "metadata": {},
   "source": [
    "### 3.4.5 Estimate the response for single-year and multi-year crisis"
   ]
  },
  {
   "cell_type": "markdown",
   "metadata": {},
   "source": [
    "#### 3.4.5.1 Single-year crisis"
   ]
  },
  {
   "cell_type": "code",
   "execution_count": null,
   "metadata": {},
   "outputs": [],
   "source": [
    "#Create an empty list\n",
    "single_year_output_gap_series = []\n",
    "#Appending the series for single year crisis\n",
    "for i in range (0,len(output_gap_series)):\n",
    "    if crisis_duration[i] == 1:\n",
    "        single_year_output_gap_series.append(output_gap_series[i])\n",
    "#Convert the list to a Numpy array\n",
    "single_year_output_gap_series = np.array(single_year_output_gap_series)"
   ]
  },
  {
   "cell_type": "code",
   "execution_count": null,
   "metadata": {},
   "outputs": [],
   "source": [
    "single_year_average_pattern_output_gap = np.mean(single_year_output_gap_series, axis=0)\n",
    "single_year_confidence_interval_output_gap = 1.96 * np.std(single_year_output_gap_series, axis=0) / np.sqrt(single_year_output_gap_series.shape[0])"
   ]
  },
  {
   "cell_type": "code",
   "execution_count": null,
   "metadata": {},
   "outputs": [],
   "source": [
    "plt.fill_between(\n",
    "    range(len(single_year_average_pattern_output_gap)),\n",
    "    single_year_average_pattern_output_gap - single_year_confidence_interval_output_gap,\n",
    "    single_year_average_pattern_output_gap + single_year_confidence_interval_output_gap,\n",
    "    color='blue',\n",
    "    alpha=0.1, label='95% CI'\n",
    ")\n",
    "\n",
    "sns.lineplot(x=years, y=single_year_average_pattern_output_gap, label = 'Response pattern')\n",
    "plt.axhline(y=0, color='black', label='y=0', linestyle = 'dashed', alpha = 0.6)\n",
    "\n",
    "plt.title('Average response in the pourcentage of deviation of the GDP pc from the trend to single-year crisis')\n",
    "plt.xlabel('Year')\n",
    "plt.ylabel('Annual inflation rate')\n",
    "\n",
    "plt.ylim(-13,9)\n",
    "plt.show()"
   ]
  },
  {
   "cell_type": "markdown",
   "metadata": {},
   "source": [
    "#### 3.4.5.2 Multi-year crisis"
   ]
  },
  {
   "cell_type": "code",
   "execution_count": null,
   "metadata": {},
   "outputs": [],
   "source": [
    "#Create an empty list\n",
    "multi_year_output_gap_series = []\n",
    "#Appending the series for single year crisis\n",
    "for i in range (0,len(output_gap_series)):\n",
    "    if crisis_duration[i] > 1:\n",
    "        multi_year_output_gap_series.append(output_gap_series[i])\n",
    "#Convert the list to a Numpy array\n",
    "multi_year_output_gap_series = np.array(multi_year_output_gap_series)"
   ]
  },
  {
   "cell_type": "code",
   "execution_count": null,
   "metadata": {},
   "outputs": [],
   "source": [
    "multi_year_weighted_average_pattern_output_gap = np.average(multi_year_output_gap_series, axis=0, weights=multi_year_crisis_duration)\n",
    "multi_year_weighted_std_output_gap = np.sqrt(np.average((multi_year_output_gap_series - multi_year_weighted_average_pattern_output_gap)**2, axis=0, weights=multi_year_crisis_duration))\n",
    "multi_year_weighted_confidence_interval_output_gap = 1.96 * multi_year_weighted_std_output_gap / np.sqrt(sum(multi_year_crisis_duration))"
   ]
  },
  {
   "cell_type": "code",
   "execution_count": null,
   "metadata": {},
   "outputs": [],
   "source": [
    "plt.fill_between(\n",
    "    range(len(multi_year_weighted_average_pattern_output_gap)),\n",
    "    multi_year_weighted_average_pattern_output_gap - multi_year_weighted_confidence_interval_output_gap,\n",
    "    multi_year_weighted_average_pattern_output_gap + multi_year_weighted_confidence_interval_output_gap,\n",
    "    color='blue',\n",
    "    alpha=0.1, label='95% CI'\n",
    ")\n",
    "\n",
    "sns.lineplot(x=years, y=multi_year_weighted_average_pattern_output_gap, label = 'Response pattern')\n",
    "plt.axhline(y=0, color='black', label='y=0', linestyle = 'dashed', alpha = 0.6)\n",
    "\n",
    "plt.title('Average response in the pourcentage of deviation of the GDP pc from the trend to multi-year crisis')\n",
    "plt.xlabel('Year')\n",
    "plt.ylabel('Annual inflation rate')\n",
    "\n",
    "plt.ylim(-13,9)\n",
    "plt.show()"
   ]
  },
  {
   "cell_type": "markdown",
   "metadata": {},
   "source": [
    "# 4. Focus on the negative demand shocks"
   ]
  },
  {
   "cell_type": "markdown",
   "metadata": {},
   "source": [
    "## 4.1 Focus on each crisis recorded"
   ]
  },
  {
   "cell_type": "code",
   "execution_count": null,
   "metadata": {},
   "outputs": [],
   "source": [
    "crisis_dict_inflation = {}\n",
    "for key, value in zip(banking_crisis_first_year,inflation_series):\n",
    "    crisis_dict_inflation[f\"Crisis of {key}\"]=value"
   ]
  },
  {
   "cell_type": "code",
   "execution_count": null,
   "metadata": {},
   "outputs": [],
   "source": [
    "crisis_dict_inflation.keys()"
   ]
  },
  {
   "cell_type": "code",
   "execution_count": null,
   "metadata": {},
   "outputs": [],
   "source": [
    "crisis_dict_output_gap = {}\n",
    "for key, value in zip(banking_crisis_first_year,output_gap_series):\n",
    "    crisis_dict_output_gap[f\"Crisis of {key}\"]=value"
   ]
  },
  {
   "cell_type": "code",
   "execution_count": null,
   "metadata": {},
   "outputs": [],
   "source": [
    "crisis_dict_GDP_pc = {}\n",
    "for key, value in zip(banking_crisis_first_year,output_series):\n",
    "    crisis_dict_GDP_pc[f\"Crisis of {key}\"]=value"
   ]
  },
  {
   "cell_type": "markdown",
   "metadata": {},
   "source": [
    "## 4.2 Inflation rate : examine the difference in the response in each of the crisis"
   ]
  },
  {
   "cell_type": "code",
   "execution_count": null,
   "metadata": {},
   "outputs": [],
   "source": [
    "fig, axes = plt.subplots(nrows=4, ncols=4, figsize=(12, 12), sharex=True)\n",
    "\n",
    "# Flatten the axes array for easier indexing\n",
    "axes = axes.flatten()\n",
    "\n",
    "# Plot each series in a separate subplot\n",
    "for i, (series_name, series_data) in enumerate(crisis_dict_inflation.items()):\n",
    "    row = i // 4\n",
    "    col = i % 4\n",
    "    axes[i].plot(series_data, label=series_name)\n",
    "    axes[i].set_title(series_name)\n",
    "    axes[i].set_xlabel('Year')\n",
    "    axes[i].set_ylabel('inflation rate')\n",
    "    # axes[i].legend()\n",
    "\n",
    "# Adjust layout for better spacing\n",
    "plt.tight_layout()\n",
    "\n",
    "# Show the plot\n",
    "plt.show()"
   ]
  },
  {
   "cell_type": "markdown",
   "metadata": {},
   "source": [
    "## 4.3 Output gap : examine the difference in the response in each of the crisis"
   ]
  },
  {
   "cell_type": "code",
   "execution_count": null,
   "metadata": {},
   "outputs": [],
   "source": [
    "fig, axes = plt.subplots(nrows=4, ncols=4, figsize=(12, 12), sharex=True)\n",
    "\n",
    "# Flatten the axes array for easier indexing\n",
    "axes = axes.flatten()\n",
    "\n",
    "# Plot each series in a separate subplot\n",
    "for i, (series_name, series_data) in enumerate(crisis_dict_output_gap.items()):\n",
    "    row = i // 4\n",
    "    col = i % 4\n",
    "    axes[i].plot(series_data, label=series_name)\n",
    "    axes[i].set_title(series_name)\n",
    "    axes[i].set_xlabel('Year')\n",
    "    axes[i].set_ylabel('% output gap')\n",
    "    # axes[i].legend()\n",
    "\n",
    "# Adjust layout for better spacing\n",
    "plt.tight_layout()\n",
    "\n",
    "# Show the plot\n",
    "plt.show()"
   ]
  },
  {
   "cell_type": "markdown",
   "metadata": {},
   "source": [
    "## 4.4 GDP per capita : examine the difference in the response in each of the crisis"
   ]
  },
  {
   "cell_type": "code",
   "execution_count": null,
   "metadata": {},
   "outputs": [],
   "source": [
    "fig, axes = plt.subplots(nrows=4, ncols=4, figsize=(12, 12), sharex=True)\n",
    "\n",
    "# Flatten the axes array for easier indexing\n",
    "axes = axes.flatten()\n",
    "\n",
    "# Plot each series in a separate subplot\n",
    "for i, (series_name, series_data) in enumerate(crisis_dict_GDP_pc.items()):\n",
    "    row = i // 4\n",
    "    col = i % 4\n",
    "    axes[i].plot(series_data, label=series_name)\n",
    "    axes[i].set_title(series_name)\n",
    "    axes[i].set_xlabel('Year')\n",
    "    axes[i].set_ylabel('GDP per capita')\n",
    "    # axes[i].legend()\n",
    "\n",
    "# Adjust layout for better spacing\n",
    "plt.tight_layout()\n",
    "\n",
    "# Show the plot\n",
    "plt.show()"
   ]
  },
  {
   "cell_type": "markdown",
   "metadata": {},
   "source": [
    "# 5. How does the length of the period without a banking crisis affect the severity of the next crisis? "
   ]
  },
  {
   "cell_type": "markdown",
   "metadata": {},
   "source": [
    "## 5.1 Analysis with US data"
   ]
  },
  {
   "cell_type": "markdown",
   "metadata": {},
   "source": [
    "Our dependant variable will be the normalized inflation rate at time t+1."
   ]
  },
  {
   "cell_type": "code",
   "execution_count": null,
   "metadata": {},
   "outputs": [],
   "source": [
    "y_US = norm_inflation_series[1:,2]\n",
    "y_US"
   ]
  },
  {
   "cell_type": "markdown",
   "metadata": {},
   "source": [
    "We are taking as explicative variable the difference between the fist year of a crisis and the first year of the crisis that preceded it. "
   ]
  },
  {
   "cell_type": "code",
   "execution_count": null,
   "metadata": {},
   "outputs": [],
   "source": [
    "US_no_crisis_period = [banking_crisis_first_year[i+1] -banking_crisis_first_year[i] for i in range(0,len(banking_crisis_first_year)-1)]\n",
    "US_no_crisis_period"
   ]
  },
  {
   "cell_type": "markdown",
   "metadata": {},
   "source": [
    "Let's create a dummy variable taking 1 if the crisis last for multiple years."
   ]
  },
  {
   "cell_type": "code",
   "execution_count": null,
   "metadata": {},
   "outputs": [],
   "source": [
    "US_dummy_multi_crisis = [1 if crisis_duration[i]>1 else 0 for i in range(1,len(crisis_duration))]\n",
    "US_dummy_multi_crisis"
   ]
  },
  {
   "cell_type": "code",
   "execution_count": null,
   "metadata": {},
   "outputs": [],
   "source": [
    "X = pd.DataFrame({\n",
    "                'no_crisis_period': US_no_crisis_period,\n",
    "                'multi_crisis': US_dummy_multi_crisis\n",
    "})"
   ]
  },
  {
   "cell_type": "code",
   "execution_count": null,
   "metadata": {},
   "outputs": [],
   "source": [
    "model = sm.OLS(y_US,sm.add_constant(X)).fit()"
   ]
  },
  {
   "cell_type": "code",
   "execution_count": null,
   "metadata": {},
   "outputs": [],
   "source": [
    "model.summary()"
   ]
  },
  {
   "cell_type": "markdown",
   "metadata": {},
   "source": [
    "## 5.2 Enriching the analysis with other countries data"
   ]
  },
  {
   "cell_type": "markdown",
   "metadata": {},
   "source": [
    "### 5.2.1 Creating the independant variable dataframe"
   ]
  },
  {
   "cell_type": "markdown",
   "metadata": {},
   "source": [
    "* For the United kingdom"
   ]
  },
  {
   "cell_type": "code",
   "execution_count": null,
   "metadata": {},
   "outputs": [],
   "source": [
    "UK_banking_crisis_years = UK_data[UK_data['banking_crisis'] == 1]['Year'].tolist()\n",
    "print(f'''{len(UK_banking_crisis_years)} banking crisis are recorded in the United Kingdom's history.''')"
   ]
  },
  {
   "cell_type": "code",
   "execution_count": null,
   "metadata": {},
   "outputs": [],
   "source": [
    "UK_banking_crisis_first_year = [UK_banking_crisis_years[0]]\n",
    "for i in range (1, len(UK_banking_crisis_years)):\n",
    "    if UK_banking_crisis_years[i]-UK_banking_crisis_years[i-1]>=2:\n",
    "        UK_banking_crisis_first_year.append(UK_banking_crisis_years[i])\n",
    "print(f'In this aproch, we record {len(UK_banking_crisis_first_year)} different crisis event.')"
   ]
  },
  {
   "cell_type": "code",
   "execution_count": null,
   "metadata": {},
   "outputs": [],
   "source": [
    "UK_crisis_duration = []\n",
    "current_length = 0\n",
    "\n",
    "for value in UK_data['banking_crisis']:\n",
    "    if value == 1:\n",
    "        current_length += 1\n",
    "    elif current_length > 0:\n",
    "        UK_crisis_duration.append(current_length)\n",
    "        current_length = 0\n",
    "\n",
    "# Check if the last sequence extends to the end of the dataset\n",
    "if current_length > 0:\n",
    "    UK_crisis_duration.append(current_length)\n",
    "\n",
    "print(UK_crisis_duration)"
   ]
  },
  {
   "cell_type": "code",
   "execution_count": null,
   "metadata": {},
   "outputs": [],
   "source": [
    "UK_no_crisis_period = [UK_banking_crisis_first_year[i+1] -UK_banking_crisis_first_year[i] for i in range(0,len(UK_banking_crisis_first_year)-1)]\n",
    "UK_no_crisis_period"
   ]
  },
  {
   "cell_type": "code",
   "execution_count": null,
   "metadata": {},
   "outputs": [],
   "source": [
    "UK_dummy_multi_crisis = [1 if UK_crisis_duration[i]>1 else 0 for i in range(1,len(UK_crisis_duration))]\n",
    "UK_dummy_multi_crisis"
   ]
  },
  {
   "cell_type": "markdown",
   "metadata": {},
   "source": [
    "* For France"
   ]
  },
  {
   "cell_type": "code",
   "execution_count": null,
   "metadata": {},
   "outputs": [],
   "source": [
    "FRA_banking_crisis_years = FRA_data[FRA_data['banking_crisis'] == 1]['Year'].tolist()\n",
    "print(f'''{len(FRA_banking_crisis_years)} banking crisis are recorded in France's history.''')"
   ]
  },
  {
   "cell_type": "code",
   "execution_count": null,
   "metadata": {},
   "outputs": [],
   "source": [
    "FRA_banking_crisis_first_year = [FRA_banking_crisis_years[0]]\n",
    "for i in range (1, len(FRA_banking_crisis_years)):\n",
    "    if FRA_banking_crisis_years[i]-FRA_banking_crisis_years[i-1]>=2:\n",
    "        FRA_banking_crisis_first_year.append(FRA_banking_crisis_years[i])\n",
    "print(f'In this aproch, we record {len(FRA_banking_crisis_first_year)} different crisis event.')"
   ]
  },
  {
   "cell_type": "code",
   "execution_count": null,
   "metadata": {},
   "outputs": [],
   "source": [
    "FRA_crisis_duration = []\n",
    "current_length = 0\n",
    "\n",
    "for value in FRA_data['banking_crisis']:\n",
    "    if value == 1:\n",
    "        current_length += 1\n",
    "    elif current_length > 0:\n",
    "        FRA_crisis_duration.append(current_length)\n",
    "        current_length = 0\n",
    "\n",
    "# Check if the last sequence extends to the end of the dataset\n",
    "if current_length > 0:\n",
    "    FRA_crisis_duration.append(current_length)\n",
    "\n",
    "print(FRA_crisis_duration)"
   ]
  },
  {
   "cell_type": "code",
   "execution_count": null,
   "metadata": {},
   "outputs": [],
   "source": [
    "FRA_no_crisis_period = [FRA_banking_crisis_first_year[i+1] -FRA_banking_crisis_first_year[i] for i in range(0,len(FRA_banking_crisis_first_year)-1)]\n",
    "FRA_no_crisis_period"
   ]
  },
  {
   "cell_type": "code",
   "execution_count": null,
   "metadata": {},
   "outputs": [],
   "source": [
    "FRA_dummy_multi_crisis = [1 if UK_crisis_duration[i]>1 else 0 for i in range(1,len(FRA_crisis_duration))]\n",
    "FRA_dummy_multi_crisis"
   ]
  },
  {
   "cell_type": "markdown",
   "metadata": {},
   "source": [
    "* For Japan"
   ]
  },
  {
   "cell_type": "code",
   "execution_count": null,
   "metadata": {},
   "outputs": [],
   "source": [
    "JPN_banking_crisis_years = JPN_data[JPN_data['banking_crisis'] == 1]['Year'].tolist()\n",
    "print(f'''{len(JPN_banking_crisis_years)} banking crisis are recorded in Japan's history.''')"
   ]
  },
  {
   "cell_type": "code",
   "execution_count": null,
   "metadata": {},
   "outputs": [],
   "source": [
    "JPN_banking_crisis_first_year = [JPN_banking_crisis_years[0]]\n",
    "for i in range (1, len(JPN_banking_crisis_years)):\n",
    "    if JPN_banking_crisis_years[i]-JPN_banking_crisis_years[i-1]>=2:\n",
    "        JPN_banking_crisis_first_year.append(JPN_banking_crisis_years[i])\n",
    "print(f'In this aproch, we record {len(JPN_banking_crisis_first_year)} different crisis event.')"
   ]
  },
  {
   "cell_type": "code",
   "execution_count": null,
   "metadata": {},
   "outputs": [],
   "source": [
    "JPN_crisis_duration = []\n",
    "current_length = 0\n",
    "\n",
    "for value in JPN_data['banking_crisis']:\n",
    "    if value == 1:\n",
    "        current_length += 1\n",
    "    elif current_length > 0:\n",
    "        JPN_crisis_duration.append(current_length)\n",
    "        current_length = 0\n",
    "\n",
    "# Check if the last sequence extends to the end of the dataset\n",
    "if current_length > 0:\n",
    "    JPN_crisis_duration.append(current_length)\n",
    "\n",
    "print(JPN_crisis_duration)"
   ]
  },
  {
   "cell_type": "code",
   "execution_count": null,
   "metadata": {},
   "outputs": [],
   "source": [
    "JPN_no_crisis_period = [JPN_banking_crisis_first_year[i+1] -JPN_banking_crisis_first_year[i] for i in range(0,len(JPN_banking_crisis_first_year)-1)]\n",
    "JPN_no_crisis_period"
   ]
  },
  {
   "cell_type": "code",
   "execution_count": null,
   "metadata": {},
   "outputs": [],
   "source": [
    "JPN_dummy_multi_crisis = [1 if UK_crisis_duration[i]>1 else 0 for i in range(1,len(JPN_crisis_duration))]\n",
    "JPN_dummy_multi_crisis"
   ]
  },
  {
   "cell_type": "markdown",
   "metadata": {},
   "source": [
    "* Compiling the data of all the countries"
   ]
  },
  {
   "cell_type": "code",
   "execution_count": null,
   "metadata": {},
   "outputs": [],
   "source": [
    "all_no_crisis_period = np.concatenate([US_no_crisis_period,UK_no_crisis_period,FRA_no_crisis_period,JPN_no_crisis_period])"
   ]
  },
  {
   "cell_type": "code",
   "execution_count": null,
   "metadata": {},
   "outputs": [],
   "source": [
    "all_dummy_multi_crisis = np.concatenate([US_dummy_multi_crisis,UK_dummy_multi_crisis,FRA_dummy_multi_crisis,JPN_dummy_multi_crisis])"
   ]
  },
  {
   "cell_type": "code",
   "execution_count": null,
   "metadata": {
    "scrolled": true
   },
   "outputs": [],
   "source": [
    "X_all = pd.DataFrame({\n",
    "                'no_crisis_period': all_no_crisis_period,\n",
    "                'multi_crisis': all_dummy_multi_crisis\n",
    "})\n",
    "X_all"
   ]
  },
  {
   "cell_type": "markdown",
   "metadata": {},
   "source": [
    "### 5.2.2 Creating the dependant variable dataframe"
   ]
  },
  {
   "cell_type": "markdown",
   "metadata": {},
   "source": [
    "* For the United kingdom"
   ]
  },
  {
   "cell_type": "code",
   "execution_count": null,
   "metadata": {},
   "outputs": [],
   "source": [
    "UK_inflation_series = []\n",
    "for year in UK_banking_crisis_first_year:\n",
    "    series_for_year = extract_inflation_series(UK_data, year)\n",
    "    UK_inflation_series.append(series_for_year)\n",
    "UK_inflation_series = np.array(UK_inflation_series)"
   ]
  },
  {
   "cell_type": "code",
   "execution_count": null,
   "metadata": {},
   "outputs": [],
   "source": [
    "UK_norm_inflation_series = []\n",
    "for array in UK_inflation_series:\n",
    "    UK_norm_inflation_series.append(array - array[0])\n",
    "UK_norm_inflation_series = np.array(UK_norm_inflation_series)"
   ]
  },
  {
   "cell_type": "code",
   "execution_count": null,
   "metadata": {},
   "outputs": [],
   "source": [
    "y_UK = UK_norm_inflation_series[1:,2]\n",
    "y_UK"
   ]
  },
  {
   "cell_type": "markdown",
   "metadata": {},
   "source": [
    "* For France"
   ]
  },
  {
   "cell_type": "code",
   "execution_count": null,
   "metadata": {},
   "outputs": [],
   "source": [
    "FRA_inflation_series = []\n",
    "for year in FRA_banking_crisis_first_year:\n",
    "    series_for_year = extract_inflation_series(FRA_data, year)\n",
    "    FRA_inflation_series.append(series_for_year)\n",
    "FRA_inflation_series = np.array(FRA_inflation_series)"
   ]
  },
  {
   "cell_type": "code",
   "execution_count": null,
   "metadata": {},
   "outputs": [],
   "source": [
    "FRA_norm_inflation_series = []\n",
    "for array in FRA_inflation_series:\n",
    "    FRA_norm_inflation_series.append(array - array[0])\n",
    "FRA_norm_inflation_series = np.array(FRA_norm_inflation_series)"
   ]
  },
  {
   "cell_type": "code",
   "execution_count": null,
   "metadata": {},
   "outputs": [],
   "source": [
    "y_FRA = FRA_norm_inflation_series[1:,2]\n",
    "y_FRA"
   ]
  },
  {
   "cell_type": "markdown",
   "metadata": {},
   "source": [
    "* For Japan"
   ]
  },
  {
   "cell_type": "code",
   "execution_count": null,
   "metadata": {},
   "outputs": [],
   "source": [
    "JPN_inflation_series = []\n",
    "for year in JPN_banking_crisis_first_year:\n",
    "    series_for_year = extract_inflation_series(JPN_data, year)\n",
    "    JPN_inflation_series.append(series_for_year)\n",
    "JPN_inflation_series = np.array(JPN_inflation_series)"
   ]
  },
  {
   "cell_type": "code",
   "execution_count": null,
   "metadata": {},
   "outputs": [],
   "source": [
    "JPN_norm_inflation_series = []\n",
    "for array in JPN_inflation_series:\n",
    "    JPN_norm_inflation_series.append(array - array[0])\n",
    "JPN_norm_inflation_series = np.array(JPN_norm_inflation_series)"
   ]
  },
  {
   "cell_type": "code",
   "execution_count": null,
   "metadata": {},
   "outputs": [],
   "source": [
    "y_JPN = JPN_norm_inflation_series[1:,2]\n",
    "y_JPN"
   ]
  },
  {
   "cell_type": "markdown",
   "metadata": {},
   "source": [
    "* Compiling the data of all the countries"
   ]
  },
  {
   "cell_type": "code",
   "execution_count": null,
   "metadata": {},
   "outputs": [],
   "source": [
    "y_all = np.concatenate([y_US,y_UK, y_FRA, y_JPN])\n",
    "y_all"
   ]
  },
  {
   "cell_type": "markdown",
   "metadata": {},
   "source": [
    "### 5.2.3 Fitting the Linear Regression model"
   ]
  },
  {
   "cell_type": "code",
   "execution_count": null,
   "metadata": {},
   "outputs": [],
   "source": [
    "model_all = sm.OLS(y_all,sm.add_constant(X_all)).fit()"
   ]
  },
  {
   "cell_type": "code",
   "execution_count": null,
   "metadata": {},
   "outputs": [],
   "source": [
    "model_all.summary()"
   ]
  },
  {
   "cell_type": "markdown",
   "metadata": {},
   "source": [
    "# 6. Response pattern with the data 4 countries"
   ]
  },
  {
   "cell_type": "markdown",
   "metadata": {},
   "source": [
    "## 6.1 In the inflation rate"
   ]
  },
  {
   "cell_type": "markdown",
   "metadata": {},
   "source": [
    "* singleyear crisis"
   ]
  },
  {
   "cell_type": "code",
   "execution_count": null,
   "metadata": {},
   "outputs": [],
   "source": [
    "#UK\n",
    "single_year_norm_inflation_series_UK = []\n",
    "#Appending the series for single year crisis\n",
    "for i in range (0,len(UK_norm_inflation_series)):\n",
    "    if UK_crisis_duration[i] == 1:\n",
    "        single_year_norm_inflation_series_UK.append(UK_norm_inflation_series[i])\n",
    "#Convert the list to a Numpy array\n",
    "single_year_norm_inflation_series_UK = np.array(single_year_norm_inflation_series_UK)\n",
    "\n",
    "#France\n",
    "single_year_norm_inflation_series_FRA = []\n",
    "#Appending the series for single year crisis\n",
    "for i in range (0,len(FRA_norm_inflation_series)):\n",
    "    if FRA_crisis_duration[i] == 1:\n",
    "        single_year_norm_inflation_series_FRA.append(FRA_norm_inflation_series[i])\n",
    "#Convert the list to a Numpy array\n",
    "single_year_norm_inflation_series_FRA = np.array(single_year_norm_inflation_series_FRA)\n",
    "\n",
    "#Japan\n",
    "single_year_norm_inflation_series_JPN = []\n",
    "#Appending the series for single year crisis\n",
    "for i in range (0,len(JPN_norm_inflation_series)):\n",
    "    if JPN_crisis_duration[i] == 1:\n",
    "        single_year_norm_inflation_series_JPN.append(JPN_norm_inflation_series[i])\n",
    "#Convert the list to a Numpy array\n",
    "single_year_norm_inflation_series_JPN = np.array(single_year_norm_inflation_series_JPN)"
   ]
  },
  {
   "cell_type": "code",
   "execution_count": null,
   "metadata": {},
   "outputs": [],
   "source": [
    "single_year_norm_inflation_series_ALL = np.concatenate((single_year_norm_inflation_series,\n",
    "                                                       single_year_norm_inflation_series_UK,\n",
    "                                                       single_year_norm_inflation_series_FRA,\n",
    "                                                       # single_year_norm_inflation_series_JPN\n",
    "                                                       ), axis =0)"
   ]
  },
  {
   "cell_type": "code",
   "execution_count": null,
   "metadata": {},
   "outputs": [],
   "source": [
    "single_year_average_pattern_ALL = np.mean(single_year_norm_inflation_series_ALL, axis=0)\n",
    "single_year_confidence_interval_ALL = 1.96 * np.std(single_year_norm_inflation_series_ALL, axis=0) / np.sqrt(single_year_norm_inflation_series_ALL.shape[0])"
   ]
  },
  {
   "cell_type": "code",
   "execution_count": null,
   "metadata": {},
   "outputs": [],
   "source": [
    "plt.fill_between(\n",
    "    range(len(single_year_average_pattern_ALL)),\n",
    "    single_year_average_pattern_ALL - single_year_confidence_interval_ALL,\n",
    "    single_year_average_pattern_ALL + single_year_confidence_interval_ALL,\n",
    "    color='blue',\n",
    "    alpha=0.1, label='95% CI'\n",
    ")\n",
    "\n",
    "sns.lineplot(x=years, y=single_year_average_pattern_ALL, label = 'Response pattern')\n",
    "plt.axhline(y=0, color='black', label='y=0', linestyle = 'dashed', alpha = 0.6)\n",
    "\n",
    "plt.title('Average response in the annual inflation rate to single-year crisis (US,FRA, UK, JPN data)')\n",
    "plt.xlabel('Year')\n",
    "plt.ylabel('Annual inflation rate')\n",
    "\n",
    "plt.ylim(-13,9)\n",
    "plt.show()"
   ]
  },
  {
   "cell_type": "code",
   "execution_count": null,
   "metadata": {},
   "outputs": [],
   "source": []
  },
  {
   "cell_type": "code",
   "execution_count": null,
   "metadata": {},
   "outputs": [],
   "source": [
    "plt.fill_between(\n",
    "    range(len(single_year_average_pattern_ALL)),\n",
    "    single_year_average_pattern_ALL - single_year_confidence_interval_ALL,\n",
    "    single_year_average_pattern_ALL + single_year_confidence_interval_ALL,\n",
    "    color='blue',\n",
    "    alpha=0.1, label='95% CI'\n",
    ")\n",
    "\n",
    "sns.lineplot(x=years, y=single_year_average_pattern_ALL, label = 'Response pattern')\n",
    "plt.axhline(y=0, color='black', label='y=0', linestyle = 'dashed', alpha = 0.6)\n",
    "\n",
    "plt.title('Average response in the annual inflation rate to single-year crisis (US,FRA, UK, JPN data)')\n",
    "plt.xlabel('Year')\n",
    "plt.ylabel('Annual inflation rate')\n",
    "\n",
    "plt.ylim(-13,9)\n",
    "plt.show()"
   ]
  },
  {
   "cell_type": "markdown",
   "metadata": {},
   "source": [
    "* Multiyear crisis"
   ]
  },
  {
   "cell_type": "code",
   "execution_count": null,
   "metadata": {},
   "outputs": [],
   "source": [
    "# UK\n",
    "UK_multi_year_crisis_duration = []\n",
    "for i in range (0, len(UK_crisis_duration)):\n",
    "    if UK_crisis_duration[i] >1:\n",
    "        UK_multi_year_crisis_duration.append(UK_crisis_duration[i])\n",
    "\n",
    "# France\n",
    "FRA_multi_year_crisis_duration = []\n",
    "for i in range (0, len(FRA_crisis_duration)):\n",
    "    if FRA_crisis_duration[i] >1:\n",
    "        FRA_multi_year_crisis_duration.append(FRA_crisis_duration[i])\n",
    "\n",
    "# Japan\n",
    "JPN_multi_year_crisis_duration = []\n",
    "for i in range (0, len(JPN_crisis_duration)):\n",
    "    if JPN_crisis_duration[i] >1:\n",
    "        JPN_multi_year_crisis_duration.append(JPN_crisis_duration[i])"
   ]
  },
  {
   "cell_type": "code",
   "execution_count": null,
   "metadata": {},
   "outputs": [],
   "source": [
    "ALL_multi_year_crisis_duration = np.concatenate((multi_year_crisis_duration,\n",
    "                                                UK_multi_year_crisis_duration,\n",
    "                                                FRA_multi_year_crisis_duration,\n",
    "                                                JPN_multi_year_crisis_duration\n",
    "                                                ), axis=0)"
   ]
  },
  {
   "cell_type": "code",
   "execution_count": null,
   "metadata": {},
   "outputs": [],
   "source": [
    "#UK\n",
    "multi_year_norm_inflation_series_UK = []\n",
    "#Appending the series for single year crisis\n",
    "for i in range (0,len(UK_norm_inflation_series)):\n",
    "    if UK_crisis_duration[i] > 1:\n",
    "        multi_year_norm_inflation_series_UK.append(UK_norm_inflation_series[i])\n",
    "#Convert the list to a Numpy array\n",
    "multi_year_norm_inflation_series_UK = np.array(multi_year_norm_inflation_series_UK)\n",
    "\n",
    "#France\n",
    "multi_year_norm_inflation_series_FRA = []\n",
    "#Appending the series for single year crisis\n",
    "for i in range (0,len(FRA_norm_inflation_series)):\n",
    "    if FRA_crisis_duration[i] > 1:\n",
    "        multi_year_norm_inflation_series_FRA.append(FRA_norm_inflation_series[i])\n",
    "#Convert the list to a Numpy array\n",
    "multi_year_norm_inflation_series_FRA = np.array(multi_year_norm_inflation_series_FRA)\n",
    "\n",
    "#Japan\n",
    "multi_year_norm_inflation_series_JPN = []\n",
    "#Appending the series for single year crisis\n",
    "for i in range (0,len(JPN_norm_inflation_series)):\n",
    "    if JPN_crisis_duration[i] > 1:\n",
    "        multi_year_norm_inflation_series_JPN.append(JPN_norm_inflation_series[i])\n",
    "#Convert the list to a Numpy array\n",
    "multi_year_norm_inflation_series_JPN = np.array(multi_year_norm_inflation_series_JPN)"
   ]
  },
  {
   "cell_type": "code",
   "execution_count": null,
   "metadata": {},
   "outputs": [],
   "source": [
    "multi_year_norm_inflation_series_ALL = np.concatenate((multi_year_norm_inflation_series,\n",
    "                                                       multi_year_norm_inflation_series_UK,\n",
    "                                                       multi_year_norm_inflation_series_FRA,\n",
    "                                                       multi_year_norm_inflation_series_JPN\n",
    "                                                       ), axis=0)"
   ]
  },
  {
   "cell_type": "code",
   "execution_count": null,
   "metadata": {},
   "outputs": [],
   "source": [
    "multi_year_weighted_average_pattern_ALL = np.average(multi_year_norm_inflation_series_ALL, axis=0, weights=ALL_multi_year_crisis_duration)\n",
    "multi_year_weighted_std_ALL = np.sqrt(np.average((multi_year_norm_inflation_series_ALL - multi_year_weighted_average_pattern_ALL)**2, axis=0, weights=ALL_multi_year_crisis_duration))\n",
    "multi_year_weighted_confidence_interval_ALL = 1.96 * multi_year_weighted_std_ALL / np.sqrt(sum(ALL_multi_year_crisis_duration))"
   ]
  },
  {
   "cell_type": "code",
   "execution_count": null,
   "metadata": {},
   "outputs": [],
   "source": [
    "plt.fill_between(\n",
    "    range(len(multi_year_weighted_average_pattern_ALL)),\n",
    "    multi_year_weighted_average_pattern_ALL - multi_year_weighted_confidence_interval_ALL,\n",
    "    multi_year_weighted_average_pattern_ALL + multi_year_weighted_confidence_interval_ALL,\n",
    "    color='blue',\n",
    "    alpha=0.1, label='95% CI'\n",
    ")\n",
    "\n",
    "sns.lineplot(x=years, y=multi_year_weighted_average_pattern_ALL, label = 'Response pattern')\n",
    "plt.axhline(y=0, color='black', label='y=0', linestyle = 'dashed', alpha = 0.6)\n",
    "\n",
    "plt.title('Average response in the annual inflation rate to multi-year crisis in the US/UK/FRA/JPN')\n",
    "plt.xlabel('Year')\n",
    "plt.ylabel('Annual inflation rate')\n",
    "\n",
    "plt.ylim(-13,9)\n",
    "plt.show()"
   ]
  },
  {
   "cell_type": "markdown",
   "metadata": {},
   "source": [
    "## 6.2 In the output gap"
   ]
  },
  {
   "cell_type": "code",
   "execution_count": null,
   "metadata": {},
   "outputs": [],
   "source": []
  },
  {
   "cell_type": "markdown",
   "metadata": {},
   "source": [
    "# 7. Learning Process - First approach"
   ]
  },
  {
   "cell_type": "code",
   "execution_count": null,
   "metadata": {
    "scrolled": true
   },
   "outputs": [],
   "source": [
    "USA_data['cum_crisis'] = USA_data['banking_crisis'].cumsum()\n",
    "USA_data['row_number'] = range(1, len(USA_data) + 1)\n",
    "USA_data['cum_crisis_proba'] = USA_data['cum_crisis']/USA_data['row_number']"
   ]
  },
  {
   "cell_type": "code",
   "execution_count": null,
   "metadata": {
    "scrolled": true
   },
   "outputs": [],
   "source": [
    "plt.figure(figsize=(10,6))\n",
    "\n",
    "sns.lineplot(x=USA_data['Year'], y=USA_data['cum_crisis_proba'], label = 'Observable probability to encounter a banking crisis')\n",
    "\n",
    "plt.title('Update of probability to encounter a liquidity shock')\n",
    "\n",
    "plt.xlabel('Year')\n",
    "plt.ylabel('Probability')\n",
    "plt.legend()"
   ]
  },
  {
   "cell_type": "markdown",
   "metadata": {},
   "source": [
    "# 8. What happens during crisis and recovery time? "
   ]
  },
  {
   "cell_type": "markdown",
   "metadata": {},
   "source": [
    "## 8.1 On the inflation rate side"
   ]
  },
  {
   "cell_type": "code",
   "execution_count": null,
   "metadata": {},
   "outputs": [],
   "source": [
    "''' This function is extracting the series of the annual inflation rate for each banking crisis or recovery period.\n",
    "Input:\n",
    "- dataframe\n",
    "- during_crisis = True or False (True for the series each banking crisis, False for the series of each recovery period)\n",
    "Output:\n",
    "- a list of series\n",
    "\n",
    "If during_crisis = True:\n",
    "    The function extracts the series of the inflation rate for time [Ts-1,..., Te]\n",
    "    s being the year of the beginning ot the crisis, e being the last year of the crisis.\n",
    "If during_crisis = False:\n",
    "    The function extracts the series of the inflation rate for time [Te+1,..., Ts-1]\n",
    "    e being the last year of the previous crisis, s being the year of the beginning ot the next crisis.\n",
    "'''\n",
    "\n",
    "def crisis_data(data, during_crisis=True):\n",
    "    series = []\n",
    "    crisis_started = False\n",
    "    no_crisis_period = False\n",
    "    current_serie = []\n",
    "\n",
    "    for index, row in data.iterrows():\n",
    "        # Extract the serie only if the value of the value of the inflation rate is not a NaN value\n",
    "        if not pd.isna(row['annual_inflation']):\n",
    "            if during_crisis:\n",
    "                # Extract data during a crisis\n",
    "                if row['banking_crisis'] == 1:\n",
    "                    if not crisis_started:\n",
    "                        crisis_started = True\n",
    "                        # Append the inflation rate for the year before the crisis\n",
    "                        if index - 1 >= 0:\n",
    "                            current_serie.append(data.at[index - 1, 'annual_inflation'])\n",
    "                        current_serie.append(row['annual_inflation'])\n",
    "                    else:\n",
    "                        # Continue the existing series\n",
    "                        current_serie.append(row['annual_inflation'])\n",
    "                elif crisis_started:\n",
    "                    # End the series when a 0 is recorded in the banking_crisis column\n",
    "                    crisis_started = False\n",
    "                    series.append(current_serie)\n",
    "                    current_serie = []\n",
    "            else:\n",
    "                # Extract data during a non-crisis period\n",
    "                if row['banking_crisis'] == 0:\n",
    "\n",
    "                    if not no_crisis_period:\n",
    "                        no_crisis_period = True\n",
    "                        # Append the inflation rate for the current year\n",
    "                        current_serie.append(row['annual_inflation'])\n",
    "                    else:\n",
    "                        # Continue the existing series\n",
    "                        current_serie.append(row['annual_inflation'])\n",
    "                elif no_crisis_period:\n",
    "                    # End the series when a 0 is recorded in the banking_crisis column\n",
    "                    no_crisis_period = False\n",
    "                    # current_serie = np.array(current_serie)\n",
    "                    series.append(current_serie)\n",
    "                    # current_serie = current_serie.tolist()\n",
    "                    current_serie = []\n",
    "    # if not during_crisis:\n",
    "    #     series = series[1:]\n",
    "    return series"
   ]
  },
  {
   "cell_type": "code",
   "execution_count": null,
   "metadata": {},
   "outputs": [],
   "source": [
    "def normalize_crisis_data(list):\n",
    "    normalized_list = []\n",
    "    for sublist in list:\n",
    "        first_element = sublist[0]\n",
    "        normalized_sublist = [value - first_element for value in sublist]\n",
    "        normalized_list.append(normalized_sublist)\n",
    "    return normalized_list"
   ]
  },
  {
   "cell_type": "code",
   "execution_count": null,
   "metadata": {},
   "outputs": [],
   "source": [
    "def compute_pattern(list):\n",
    "    max_length = max(len(sublist) for sublist in list)\n",
    "\n",
    "    # Initialize an array for the average pattern\n",
    "    pattern = np.zeros(max_length)\n",
    "\n",
    "    # Iterate through each position in the pattern\n",
    "    for i in range(max_length):\n",
    "        # Initialize variables for the sum and length for each position\n",
    "        col_sum = 0\n",
    "        length = 0\n",
    "\n",
    "        # Iterate through each sublist\n",
    "        for sublist in list:\n",
    "            # Check if the current sublist has a value at the current position\n",
    "            if i < len(sublist):\n",
    "                col_sum += sublist[i]\n",
    "                length += 1\n",
    "\n",
    "        # Calculate the mean for the current position\n",
    "        mean = col_sum / length if length > 0 else 0\n",
    "\n",
    "        # Set the mean in the average pattern array\n",
    "        pattern[i] = mean\n",
    "\n",
    "\n",
    "    return pattern"
   ]
  },
  {
   "cell_type": "markdown",
   "metadata": {},
   "source": [
    "* USA example"
   ]
  },
  {
   "cell_type": "code",
   "execution_count": null,
   "metadata": {
    "scrolled": true
   },
   "outputs": [],
   "source": [
    "pattern_during_crisis = compute_pattern(normalize_crisis_data(crisis_data(USA_data, during_crisis = True)))\n",
    "pattern_during_recovery = compute_pattern(normalize_crisis_data(crisis_data(USA_data, during_crisis = False)))\n",
    "\n",
    "years = [f\"t{i}\" if i < 0 else f\"t+{i}\" if i > 0 else \"t\" for i in range(-1, len(pattern_during_crisis) - 1)]\n",
    "sns.lineplot(x = years, y = pattern_during_crisis, marker = 's', label = 'During crisis')\n",
    "\n",
    "plt.axhline(y=0, color='orange', label='y=0', linestyle = 'dashed', alpha = 0.8)\n",
    "\n",
    "plt.title('What happens if the crisis continues? ')\n",
    "\n",
    "plt.xlabel('Time in years')\n",
    "plt.ylabel('Inflation rate (cent. at t-1)')\n",
    "\n",
    "plt.show()\n",
    "\n",
    "years = [f\"t{i}\" if i < 0 else f\"t+{i}\" if i > 0 else \"t\" for i in range(-1, len(pattern_during_recovery) - 1)]\n",
    "sns.lineplot(x = years, y = pattern_during_recovery, marker = 's', color = 'Purple', alpha = 0.9, label = 'During recovery')\n",
    "plt.axhline(y=0, color='orange', label='y=0', linestyle = 'dashed', alpha = 0.8)\n",
    "\n",
    "plt.title('What happens during recovery period? ')\n",
    "\n",
    "plt.xlabel('Time in years')\n",
    "plt.ylabel('Inflation rate (cent. at t-1)')\n",
    "plt.xlim('t-1', 't+13')\n",
    "\n",
    "plt.show()"
   ]
  },
  {
   "cell_type": "markdown",
   "metadata": {},
   "source": [
    "* G7 countries"
   ]
  },
  {
   "cell_type": "code",
   "execution_count": null,
   "metadata": {},
   "outputs": [],
   "source": [
    "G7_inflation_series_during_crisis = []\n",
    "for code in countries_selected:\n",
    "    df = data[data[\"CC3\"]==code]\n",
    "    G7_inflation_series_during_crisis.extend(crisis_data(df, during_crisis = True))\n",
    "pattern_during_crisis = compute_pattern(normalize_crisis_data(G7_inflation_series_during_crisis))"
   ]
  },
  {
   "cell_type": "code",
   "execution_count": null,
   "metadata": {},
   "outputs": [],
   "source": [
    "G7_inflation_series_during_recovery = []\n",
    "for code in countries_selected:\n",
    "    df = data[data[\"CC3\"]==code]\n",
    "    G7_inflation_series_during_recovery.extend(crisis_data(df, during_crisis = False))\n",
    "pattern_during_recovery = compute_pattern(normalize_crisis_data(G7_inflation_series_during_recovery))"
   ]
  },
  {
   "cell_type": "code",
   "execution_count": null,
   "metadata": {},
   "outputs": [],
   "source": [
    "#Compute the average response pattern by time elapsed\n",
    "# pattern_during_crisis = compute_pattern(normalize_crisis_data(crisis_data(G7_data, during_crisis = True)))\n",
    "# pattern_during_recovery = compute_pattern(normalize_crisis_data(crisis_data(G7_data, during_crisis = False)))\n",
    "\n",
    "#Plot the inflation rate during banking crsis period\n",
    "years = [f\"t{i}\" if i < 0 else f\"t+{i}\" if i > 0 else \"t\" for i in range(-1, len(pattern_during_crisis) - 1)]\n",
    "sns.lineplot(x = years, y = pattern_during_crisis, marker = 's', label = 'During crisis')\n",
    "\n",
    "plt.axhline(y=0, color='orange', label='y=0', linestyle = 'dashed', alpha = 0.8)\n",
    "\n",
    "plt.title('What happens if the crisis continues? ')\n",
    "\n",
    "plt.xlabel('Time in years')\n",
    "plt.ylabel('Inflation rate')\n",
    "\n",
    "plt.show()\n",
    "\n",
    "#Plot the inflation rate during recovery period\n",
    "years = [f\"t{i}\" if i < 0 else f\"t+{i}\" if i > 0 else \"t\" for i in range(0, len(pattern_during_recovery))]\n",
    "sns.lineplot(x = years, y = pattern_during_recovery, marker = 's', color = 'Purple', alpha = 0.9, label = 'During recovery')\n",
    "plt.axhline(y=0, color='orange', label='y=0', linestyle = 'dashed', alpha = 0.8)\n",
    "\n",
    "plt.title('What happens during recovery period? ')\n",
    "\n",
    "plt.xlabel('Time in years')\n",
    "plt.ylabel('Inflation rate')\n",
    "plt.ylim(-10, 20)\n",
    "plt.xlim('t', 't+13')\n",
    "plt.legend()\n",
    "\n",
    "plt.show()"
   ]
  },
  {
   "cell_type": "code",
   "execution_count": null,
   "metadata": {},
   "outputs": [],
   "source": [
    "length_counts = {}\n",
    "for sublist in crisis_data(G7_data, during_crisis = True):\n",
    "    length = len(sublist)\n",
    "    if length in length_counts:\n",
    "        length_counts[length] += 1\n",
    "    else:\n",
    "        length_counts[length] = 1\n",
    "\n",
    "# Convert dictionary to pandas DataFrame\n",
    "df = pd.DataFrame(list(length_counts.items()), columns=['Length', 'Count'])\n",
    "\n",
    "# Sort DataFrame by length\n",
    "df = df.sort_values(by='Length')\n",
    "df.reset_index(drop=True, inplace=True)\n",
    "print(df)"
   ]
  },
  {
   "cell_type": "markdown",
   "metadata": {},
   "source": [
    "## 8.2 On the output gap side"
   ]
  },
  {
   "cell_type": "code",
   "execution_count": null,
   "metadata": {},
   "outputs": [],
   "source": [
    "def create_output_df(data, code):\n",
    "    df = data.loc[data['Code'] == code]\n",
    "    cycle, trend = sm.tsa.filters.hpfilter(df.GDP_per_capita, lamb=1600)\n",
    "    dataframe = pd.DataFrame({\n",
    "    'CC3': df.Code,\n",
    "    'Year' : df.Year,\n",
    "    'output_gap' : round(((df.GDP_per_capita - trend)/trend)*100, 2)})\n",
    "    return dataframe"
   ]
  },
  {
   "cell_type": "code",
   "execution_count": null,
   "metadata": {},
   "outputs": [],
   "source": [
    "def merge_datasets(dataset1, dataset2, on=['Year', 'CC3'], how='inner'):\n",
    "    merged_df = pd.merge(dataset1, dataset2, on=on, how=how)\n",
    "    return merged_df"
   ]
  },
  {
   "cell_type": "code",
   "execution_count": null,
   "metadata": {},
   "outputs": [],
   "source": [
    "def output_crisis_data(data, during_crisis=True):\n",
    "    ''' This function is extracting the series of the annual inflation rate for each banking crisis or recovery period.\n",
    "    Input:\n",
    "    - dataframe\n",
    "    - during_crisis = True or False (True for the series each banking crisis, False for the series of each recovery period)\n",
    "    Output:\n",
    "    - a list of series\n",
    "\n",
    "    If during_crisis = True:\n",
    "        The function extracts the series of the inflation rate for time [Ts-1,..., Te]\n",
    "        s being the year of the beginning ot the crisis, e being the last year of the crisis.\n",
    "    If during_crisis = False:\n",
    "        The function extracts the series of the inflation rate for time [Te+1,..., Ts-1]\n",
    "        e being the last year of the previous crisis, s being the year of the beginning ot the next crisis.\n",
    "    '''\n",
    "    series = []\n",
    "    crisis_started = False\n",
    "    no_crisis_period = False\n",
    "    current_serie = []\n",
    "\n",
    "    for index, row in data.iterrows():\n",
    "        # Extract the serie only if the value of the value of the inflation rate is not a NaN value\n",
    "        if not pd.isna(row['output_gap']):\n",
    "            if during_crisis:\n",
    "                # Extract data during a crisis\n",
    "                if row['banking_crisis'] == 1:\n",
    "                    if not crisis_started:\n",
    "                        crisis_started = True\n",
    "                        # Append the inflation rate for the year before the crisis\n",
    "                        if index - 1 >= 0:\n",
    "                            current_serie.append(data.at[index - 1, 'output_gap'])\n",
    "                        current_serie.append(row['output_gap'])\n",
    "                    else:\n",
    "                        # Continue the existing series\n",
    "                        current_serie.append(row['output_gap'])\n",
    "                elif crisis_started:\n",
    "                    # End the series when a 0 is recorded in the banking_crisis column\n",
    "                    crisis_started = False\n",
    "                    series.append(current_serie)\n",
    "                    current_serie = []\n",
    "            else:\n",
    "                # Extract data during a non-crisis period\n",
    "                if row['banking_crisis'] == 0:\n",
    "\n",
    "                    if not no_crisis_period:\n",
    "                        no_crisis_period = True\n",
    "                        # Append the inflation rate for the current year\n",
    "                        current_serie.append(row['output_gap'])\n",
    "                    else:\n",
    "                        # Continue the existing series\n",
    "                        current_serie.append(row['output_gap'])\n",
    "                elif no_crisis_period:\n",
    "                    # End the series when a 0 is recorded in the banking_crisis column\n",
    "                    no_crisis_period = False\n",
    "                    # current_serie = np.array(current_serie)\n",
    "                    series.append(current_serie)\n",
    "                    # current_serie = current_serie.tolist()\n",
    "                    current_serie = []\n",
    "    # if not during_crisis:\n",
    "    #     series = series[1:]\n",
    "    return series"
   ]
  },
  {
   "cell_type": "markdown",
   "metadata": {},
   "source": [
    "* US example"
   ]
  },
  {
   "cell_type": "code",
   "execution_count": null,
   "metadata": {},
   "outputs": [],
   "source": [
    "USA_output_data = merge_dataset(create_output_df(GDP_pc, 'USA'), USA_data)\n",
    "pattern_during_crisis = compute_pattern(output_crisis_data(USA_output_data, during_crisis = True))\n",
    "pattern_during_recovery = compute_pattern(output_crisis_data(USA_output_data, during_crisis = False))\n",
    "\n",
    "years = [f\"t{i}\" if i < 0 else f\"t+{i}\" if i > 0 else \"t\" for i in range(-1, len(pattern_during_crisis) - 1)]\n",
    "sns.lineplot(x = years, y = pattern_during_crisis, marker = 's', label = 'Crisis period')\n",
    "\n",
    "plt.axhline(y=0, color='orange', label='y=0', linestyle = 'dashed', alpha = 0.8)\n",
    "\n",
    "plt.title('What happens if the crisis continues? ')\n",
    "\n",
    "plt.xlabel('Time in years')\n",
    "plt.ylabel('% deviation from HP trend')\n",
    "\n",
    "plt.show()\n",
    "\n",
    "years = [f\"t{i}\" if i < 0 else f\"t+{i}\" if i > 0 else \"t\" for i in range(-1, len(pattern_during_recovery) - 1)]\n",
    "sns.lineplot(x = years, y = pattern_during_recovery, marker = 's', color = 'Purple', alpha = 0.9, label = 'Recovery period')\n",
    "plt.axhline(y=0, color='orange', label='y=0', linestyle = 'dashed', alpha = 0.8)\n",
    "\n",
    "plt.title('What happens during recovery period? ')\n",
    "\n",
    "plt.xlabel('Time in years')\n",
    "plt.ylabel('% deviation from HP trend')\n",
    "plt.xlim('t-1', 't+13')\n",
    "\n",
    "plt.show()"
   ]
  },
  {
   "cell_type": "markdown",
   "metadata": {},
   "source": [
    "* G7 countries"
   ]
  },
  {
   "cell_type": "code",
   "execution_count": null,
   "metadata": {},
   "outputs": [],
   "source": [
    "G7_outputgap_series_during_crisis = []\n",
    "for code in countries_selected:\n",
    "    df = merge_datasets(create_output_df(GDP_pc, code), data[data[\"CC3\"]==code])\n",
    "    G7_outputgap_series_during_crisis.extend(output_crisis_data(df, during_crisis = True))\n",
    "pattern_during_crisis = compute_pattern(G7_outputgap_series_during_crisis)"
   ]
  },
  {
   "cell_type": "code",
   "execution_count": null,
   "metadata": {},
   "outputs": [],
   "source": [
    "G7_outputgap_series_during_recovery = []\n",
    "for code in countries_selected:\n",
    "    df = merge_datasets(create_output_df(GDP_pc, code), data[data[\"CC3\"]==code])\n",
    "    G7_outputgap_series_during_recovery.extend(output_crisis_data(df, during_crisis = False))\n",
    "pattern_during_recovery = compute_pattern(G7_outputgap_series_during_recovery)"
   ]
  },
  {
   "cell_type": "code",
   "execution_count": null,
   "metadata": {
    "scrolled": true
   },
   "outputs": [],
   "source": [
    "# pattern_during_crisis = compute_pattern(output_crisis_data(G7_output_data, during_crisis = True))\n",
    "# pattern_during_recovery = compute_pattern(output_crisis_data(G7_output_data, during_crisis = False))\n",
    "\n",
    "years = [f\"t{i}\" if i < 0 else f\"t+{i}\" if i > 0 else \"t\" for i in range(-1, len(pattern_during_crisis) - 1)]\n",
    "sns.lineplot(x = years, y = pattern_during_crisis, marker = 's', label = 'Crisis period')\n",
    "\n",
    "plt.axhline(y=0, color='orange', label='y=0', linestyle = 'dashed', alpha = 0.8)\n",
    "\n",
    "plt.title('What happens if the crisis continues? ')\n",
    "\n",
    "plt.xlabel('Time in years')\n",
    "plt.ylabel('% deviation from HP trend')\n",
    "\n",
    "plt.show()\n",
    "\n",
    "years = [f\"t{i}\" if i < 0 else f\"t+{i}\" if i > 0 else \"t\" for i in range(-1, len(pattern_during_recovery) - 1)]\n",
    "sns.lineplot(x = years, y = pattern_during_recovery, marker = 's', color = 'Purple', alpha = 0.9, label = 'Recovery period')\n",
    "plt.axhline(y=0, color='orange', label='y=0', linestyle = 'dashed', alpha = 0.8)\n",
    "\n",
    "plt.title('What happens during recovery period? ')\n",
    "\n",
    "plt.xlabel('Time in years')\n",
    "plt.ylabel('% deviation from HP trend')\n",
    "plt.xlim('t-1', 't+13')\n",
    "\n",
    "plt.show()"
   ]
  },
  {
   "cell_type": "markdown",
   "metadata": {},
   "source": [
    "# 9. Reaction for each length of crisis"
   ]
  },
  {
   "cell_type": "code",
   "execution_count": null,
   "metadata": {},
   "outputs": [],
   "source": [
    "def concat_dataset(list):\n",
    "    all_datasets = []\n",
    "    for code in list:\n",
    "        df = merge_datasets(create_output_df(GDP_pc, code), data[data[\"CC3\"]==code])\n",
    "        all_datasets.append(df)\n",
    "\n",
    "    concat_dataset = pd.concat(all_datasets,ignore_index=True)\n",
    "    return concat_dataset"
   ]
  },
  {
   "cell_type": "code",
   "execution_count": null,
   "metadata": {},
   "outputs": [],
   "source": [
    "G7_output_data = concat_dataset(countries_selected)"
   ]
  },
  {
   "cell_type": "code",
   "execution_count": null,
   "metadata": {},
   "outputs": [],
   "source": [
    "crisis_duration = []\n",
    "current_length = 0\n",
    "\n",
    "for value in G7_output_data['banking_crisis']:\n",
    "    if value == 1:\n",
    "        current_length += 1\n",
    "    elif current_length > 0:\n",
    "        crisis_duration.append(current_length)\n",
    "        current_length = 0\n",
    "\n",
    "# Check if the last sequence extends to the end of the dataset\n",
    "if current_length > 0:\n",
    "    crisis_duration.append(current_length)\n",
    "\n",
    "print(crisis_duration)\n",
    "print(len(crisis_duration))"
   ]
  },
  {
   "cell_type": "code",
   "execution_count": null,
   "metadata": {},
   "outputs": [],
   "source": [
    "banking_crisis_years = G7_output_data[G7_output_data['banking_crisis'] == 1]['Year'].tolist()"
   ]
  },
  {
   "cell_type": "code",
   "execution_count": null,
   "metadata": {},
   "outputs": [],
   "source": [
    "banking_crisis_first_year = [banking_crisis_years[0]]\n",
    "for i in range (1, len(banking_crisis_years)):\n",
    "    if banking_crisis_years[i]-banking_crisis_years[i-1]>=2:\n",
    "        banking_crisis_first_year.append(banking_crisis_years[i])\n",
    "print(f'In this aproch, we record {len(banking_crisis_first_year)} different crisis event.')"
   ]
  },
  {
   "cell_type": "code",
   "execution_count": null,
   "metadata": {},
   "outputs": [],
   "source": [
    "inflation_series = []\n",
    "for year in banking_crisis_first_year:\n",
    "    series_for_year = extract_inflation_series(G7_output_data, year)\n",
    "    inflation_series.append(series_for_year)\n",
    "inflation_series = np.array(inflation_series)"
   ]
  },
  {
   "cell_type": "code",
   "execution_count": null,
   "metadata": {},
   "outputs": [],
   "source": [
    "norm_inflation_series = []\n",
    "for array in inflation_series:\n",
    "    norm_inflation_series.append(array - array[0])\n",
    "norm_inflation_series = np.array(norm_inflation_series)"
   ]
  },
  {
   "cell_type": "code",
   "execution_count": null,
   "metadata": {},
   "outputs": [],
   "source": [
    "#Create an empty list\n",
    "single_year_norm_inflation_series = []\n",
    "#Appending the series for single year crisis\n",
    "for i in range (0,len(norm_inflation_series)):\n",
    "    if crisis_duration[i] == 1:\n",
    "        single_year_norm_inflation_series.append(norm_inflation_series[i])\n",
    "#Convert the list to a Numpy array\n",
    "single_year_norm_inflation_series = np.array(single_year_norm_inflation_series)\n",
    "single_year_norm_inflation_series"
   ]
  },
  {
   "cell_type": "code",
   "execution_count": null,
   "metadata": {},
   "outputs": [],
   "source": [
    "single_year_average_pattern = np.mean(single_year_norm_inflation_series, axis=0)\n",
    "single_year_confidence_interval = 1.96 * np.std(single_year_norm_inflation_series, axis=0) / np.sqrt(single_year_norm_inflation_series.shape[0])"
   ]
  },
  {
   "cell_type": "code",
   "execution_count": null,
   "metadata": {},
   "outputs": [],
   "source": [
    "years = []\n",
    "for i in range (-1,7):\n",
    "    if i<0:\n",
    "        years.append(f\"t{i}\")\n",
    "    elif i==0:\n",
    "        years.append(f\"t\")\n",
    "    else:\n",
    "        years.append(f\"t+{i}\")\n",
    "years"
   ]
  },
  {
   "cell_type": "code",
   "execution_count": null,
   "metadata": {},
   "outputs": [],
   "source": [
    "plt.fill_between(\n",
    "    range(len(single_year_average_pattern)),\n",
    "    single_year_average_pattern - single_year_confidence_interval,\n",
    "    single_year_average_pattern + single_year_confidence_interval,\n",
    "    color='blue',\n",
    "    alpha=0.1, label='95% CI'\n",
    ")\n",
    "\n",
    "sns.lineplot(x=years, y=single_year_average_pattern, label = 'Response pattern')\n",
    "plt.axhline(y=0, color='black', label='y=0', linestyle = 'dashed', alpha = 0.6)\n",
    "\n",
    "plt.title('Average response in the annual inflation rate to single-year crisis in the US history')\n",
    "plt.xlabel('Year')\n",
    "plt.ylabel('Annual inflation rate')\n",
    "\n",
    "plt.ylim(-13,9)\n",
    "plt.show()"
   ]
  },
  {
   "cell_type": "code",
   "execution_count": null,
   "metadata": {},
   "outputs": [],
   "source": [
    "#Create an empty list\n",
    "two_year_norm_inflation_series = []\n",
    "#Appending the series for single year crisis\n",
    "for i in range (0,len(norm_inflation_series)):\n",
    "    if crisis_duration[i] == 2:\n",
    "        two_year_norm_inflation_series.append(norm_inflation_series[i])\n",
    "#Convert the list to a Numpy array\n",
    "two_year_norm_inflation_series = np.array(two_year_norm_inflation_series)\n",
    "two_year_norm_inflation_series"
   ]
  },
  {
   "cell_type": "code",
   "execution_count": null,
   "metadata": {},
   "outputs": [],
   "source": [
    "two_year_average_pattern = np.mean(two_year_norm_inflation_series, axis=0)\n",
    "two_year_confidence_interval = 1.96 * np.std(two_year_norm_inflation_series, axis=0) / np.sqrt(two_year_norm_inflation_series.shape[0])"
   ]
  },
  {
   "cell_type": "code",
   "execution_count": null,
   "metadata": {},
   "outputs": [],
   "source": [
    "plt.fill_between(\n",
    "    range(len(two_year_average_pattern)),\n",
    "    two_year_average_pattern - two_year_confidence_interval,\n",
    "    two_year_average_pattern + two_year_confidence_interval,\n",
    "    color='blue',\n",
    "    alpha=0.1, label='95% CI'\n",
    ")\n",
    "\n",
    "sns.lineplot(x=years, y=two_year_average_pattern, label = 'Response pattern')\n",
    "plt.axhline(y=0, color='black', label='y=0', linestyle = 'dashed', alpha = 0.6)\n",
    "\n",
    "plt.title('Average response in the annual inflation rate to single-year crisis in the US history')\n",
    "plt.xlabel('Year')\n",
    "plt.ylabel('Annual inflation rate')\n",
    "\n",
    "plt.ylim(-13,9)\n",
    "plt.show()"
   ]
  },
  {
   "cell_type": "code",
   "execution_count": null,
   "metadata": {},
   "outputs": [],
   "source": [
    "#Create an empty list\n",
    "three_year_norm_inflation_series = []\n",
    "#Appending the series for single year crisis\n",
    "for i in range (0,len(norm_inflation_series)):\n",
    "    if crisis_duration[i] == 3:\n",
    "        three_year_norm_inflation_series.append(norm_inflation_series[i])\n",
    "#Convert the list to a Numpy array\n",
    "three_year_norm_inflation_series = np.array(three_year_norm_inflation_series)\n",
    "three_year_norm_inflation_series"
   ]
  },
  {
   "cell_type": "code",
   "execution_count": null,
   "metadata": {},
   "outputs": [],
   "source": [
    "three_year_average_pattern = np.mean(three_year_norm_inflation_series, axis=0)\n",
    "three_year_confidence_interval = 1.96 * np.std(three_year_norm_inflation_series, axis=0) / np.sqrt(three_year_norm_inflation_series.shape[0])"
   ]
  },
  {
   "cell_type": "code",
   "execution_count": null,
   "metadata": {},
   "outputs": [],
   "source": [
    "plt.fill_between(\n",
    "    range(len(two_year_average_pattern)),\n",
    "    three_year_average_pattern - three_year_confidence_interval,\n",
    "    three_year_average_pattern + three_year_confidence_interval,\n",
    "    color='blue',\n",
    "    alpha=0.1, label='95% CI'\n",
    ")\n",
    "\n",
    "sns.lineplot(x=years, y=three_year_average_pattern, label = 'Response pattern')\n",
    "plt.axhline(y=0, color='black', label='y=0', linestyle = 'dashed', alpha = 0.6)\n",
    "\n",
    "plt.title('Average response in the annual inflation rate to single-year crisis in the US history')\n",
    "plt.xlabel('Year')\n",
    "plt.ylabel('Annual inflation rate')\n",
    "\n",
    "plt.ylim(-13,9)\n",
    "plt.show()"
   ]
  },
  {
   "cell_type": "code",
   "execution_count": null,
   "metadata": {},
   "outputs": [],
   "source": [
    "#Create an empty list\n",
    "four_year_norm_inflation_series = []\n",
    "#Appending the series for single year crisis\n",
    "for i in range (0,len(norm_inflation_series)):\n",
    "    if crisis_duration[i] == 4:\n",
    "        four_year_norm_inflation_series.append(norm_inflation_series[i])\n",
    "#Convert the list to a Numpy array\n",
    "four_year_norm_inflation_series = np.array(four_year_norm_inflation_series)\n",
    "four_year_norm_inflation_series"
   ]
  },
  {
   "cell_type": "code",
   "execution_count": null,
   "metadata": {},
   "outputs": [],
   "source": [
    "four_year_average_pattern = np.mean(four_year_norm_inflation_series, axis=0)\n",
    "four_year_confidence_interval = 1.96 * np.std(four_year_norm_inflation_series, axis=0) / np.sqrt(four_year_norm_inflation_series.shape[0])"
   ]
  },
  {
   "cell_type": "code",
   "execution_count": null,
   "metadata": {},
   "outputs": [],
   "source": [
    "plt.fill_between(\n",
    "    range(len(four_year_average_pattern)),\n",
    "    four_year_average_pattern - four_year_confidence_interval,\n",
    "    four_year_average_pattern + four_year_confidence_interval,\n",
    "    color='blue',\n",
    "    alpha=0.1, label='95% CI'\n",
    ")\n",
    "\n",
    "sns.lineplot(x=years, y=four_year_average_pattern, label = 'Response pattern')\n",
    "plt.axhline(y=0, color='black', label='y=0', linestyle = 'dashed', alpha = 0.6)\n",
    "\n",
    "plt.title('Average response in the annual inflation rate to single-year crisis in the US history')\n",
    "plt.xlabel('Year')\n",
    "plt.ylabel('Annual inflation rate')\n",
    "\n",
    "plt.ylim(-13,9)\n",
    "plt.show()"
   ]
  }
 ],
 "metadata": {
  "kernelspec": {
   "display_name": "Python 3 (ipykernel)",
   "language": "python",
   "name": "python3"
  },
  "language_info": {
   "codemirror_mode": {
    "name": "ipython",
    "version": 3
   },
   "file_extension": ".py",
   "mimetype": "text/x-python",
   "name": "python",
   "nbconvert_exporter": "python",
   "pygments_lexer": "ipython3",
   "version": "3.10.6"
  }
 },
 "nbformat": 4,
 "nbformat_minor": 4
}

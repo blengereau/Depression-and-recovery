{
 "cells": [
  {
   "cell_type": "markdown",
   "metadata": {},
   "source": [
    "# 0. Import libraries and Dataset"
   ]
  },
  {
   "cell_type": "code",
   "execution_count": 1,
   "metadata": {},
   "outputs": [],
   "source": [
    "import pandas as pd\n",
    "import matplotlib.pyplot as plt\n",
    "import seaborn as sns\n"
   ]
  },
  {
   "cell_type": "code",
   "execution_count": 139,
   "metadata": {},
   "outputs": [],
   "source": [
    "data = pd.read_csv(\"../raw_data/global_crisis_data_country_csv.csv\", encoding='unicode_escape')"
   ]
  },
  {
   "cell_type": "code",
   "execution_count": 140,
   "metadata": {},
   "outputs": [
    {
     "name": "stdout",
     "output_type": "stream",
     "text": [
      "(15191, 27)\n"
     ]
    },
    {
     "data": {
      "text/html": [
       "<div>\n",
       "<style scoped>\n",
       "    .dataframe tbody tr th:only-of-type {\n",
       "        vertical-align: middle;\n",
       "    }\n",
       "\n",
       "    .dataframe tbody tr th {\n",
       "        vertical-align: top;\n",
       "    }\n",
       "\n",
       "    .dataframe thead th {\n",
       "        text-align: right;\n",
       "    }\n",
       "</style>\n",
       "<table border=\"1\" class=\"dataframe\">\n",
       "  <thead>\n",
       "    <tr style=\"text-align: right;\">\n",
       "      <th></th>\n",
       "      <th>Case</th>\n",
       "      <th>CC3</th>\n",
       "      <th>Country</th>\n",
       "      <th>Year</th>\n",
       "      <th>Banking Crisis</th>\n",
       "      <th>Banking_Crisis_Notes</th>\n",
       "      <th>Systemic Crisis</th>\n",
       "      <th>Gold Standard</th>\n",
       "      <th>exch_usd</th>\n",
       "      <th>exch_usd_alt1</th>\n",
       "      <th>...</th>\n",
       "      <th>Domestic_Debt_ Notes/Sources</th>\n",
       "      <th>SOVEREIGN EXTERNAL DEBT 1: DEFAULT and RESTRUCTURINGS, 1800-2012--Does not include defaults on WWI debt to United States and United Kingdom and post-1975 defaults on Official External Creditors</th>\n",
       "      <th>SOVEREIGN EXTERNAL DEBT 2: DEFAULT and RESTRUCTURINGS, 1800-2012--Does not include defaults on WWI debt to United States and United Kingdom but includes post-1975 defaults on Official External Creditors</th>\n",
       "      <th>Defaults_External_Notes</th>\n",
       "      <th>GDP_Weighted_default</th>\n",
       "      <th>&lt;</th>\n",
       "      <th>Inflation, Annual percentages of average consumer prices</th>\n",
       "      <th>Independence</th>\n",
       "      <th>Currency Crises</th>\n",
       "      <th>Inflation Crises</th>\n",
       "    </tr>\n",
       "  </thead>\n",
       "  <tbody>\n",
       "    <tr>\n",
       "      <th>0</th>\n",
       "      <td>NaN</td>\n",
       "      <td>NaN</td>\n",
       "      <td>NaN</td>\n",
       "      <td>NaN</td>\n",
       "      <td>x</td>\n",
       "      <td>NaN</td>\n",
       "      <td>x</td>\n",
       "      <td>x</td>\n",
       "      <td>NaN</td>\n",
       "      <td>NaN</td>\n",
       "      <td>...</td>\n",
       "      <td>NaN</td>\n",
       "      <td>x</td>\n",
       "      <td>NaN</td>\n",
       "      <td>NaN</td>\n",
       "      <td>x</td>\n",
       "      <td>x</td>\n",
       "      <td>NaN</td>\n",
       "      <td>x</td>\n",
       "      <td>x</td>\n",
       "      <td>x</td>\n",
       "    </tr>\n",
       "    <tr>\n",
       "      <th>1</th>\n",
       "      <td>1.0</td>\n",
       "      <td>DZA</td>\n",
       "      <td>Algeria</td>\n",
       "      <td>1800.0</td>\n",
       "      <td>0</td>\n",
       "      <td>NaN</td>\n",
       "      <td>0</td>\n",
       "      <td>0</td>\n",
       "      <td>NaN</td>\n",
       "      <td>NaN</td>\n",
       "      <td>...</td>\n",
       "      <td>NaN</td>\n",
       "      <td>0</td>\n",
       "      <td>0.0</td>\n",
       "      <td>NaN</td>\n",
       "      <td>0</td>\n",
       "      <td>NaN</td>\n",
       "      <td>NaN</td>\n",
       "      <td>0</td>\n",
       "      <td>0</td>\n",
       "      <td>0</td>\n",
       "    </tr>\n",
       "    <tr>\n",
       "      <th>2</th>\n",
       "      <td>1.0</td>\n",
       "      <td>DZA</td>\n",
       "      <td>Algeria</td>\n",
       "      <td>1801.0</td>\n",
       "      <td>0</td>\n",
       "      <td>NaN</td>\n",
       "      <td>0</td>\n",
       "      <td>0</td>\n",
       "      <td>NaN</td>\n",
       "      <td>NaN</td>\n",
       "      <td>...</td>\n",
       "      <td>NaN</td>\n",
       "      <td>0</td>\n",
       "      <td>0.0</td>\n",
       "      <td>NaN</td>\n",
       "      <td>0</td>\n",
       "      <td>NaN</td>\n",
       "      <td>NaN</td>\n",
       "      <td>0</td>\n",
       "      <td>0</td>\n",
       "      <td>0</td>\n",
       "    </tr>\n",
       "    <tr>\n",
       "      <th>3</th>\n",
       "      <td>1.0</td>\n",
       "      <td>DZA</td>\n",
       "      <td>Algeria</td>\n",
       "      <td>1802.0</td>\n",
       "      <td>0</td>\n",
       "      <td>NaN</td>\n",
       "      <td>0</td>\n",
       "      <td>0</td>\n",
       "      <td>NaN</td>\n",
       "      <td>NaN</td>\n",
       "      <td>...</td>\n",
       "      <td>NaN</td>\n",
       "      <td>0</td>\n",
       "      <td>0.0</td>\n",
       "      <td>NaN</td>\n",
       "      <td>0</td>\n",
       "      <td>NaN</td>\n",
       "      <td>NaN</td>\n",
       "      <td>0</td>\n",
       "      <td>0</td>\n",
       "      <td>0</td>\n",
       "    </tr>\n",
       "    <tr>\n",
       "      <th>4</th>\n",
       "      <td>1.0</td>\n",
       "      <td>DZA</td>\n",
       "      <td>Algeria</td>\n",
       "      <td>1803.0</td>\n",
       "      <td>0</td>\n",
       "      <td>NaN</td>\n",
       "      <td>0</td>\n",
       "      <td>0</td>\n",
       "      <td>NaN</td>\n",
       "      <td>NaN</td>\n",
       "      <td>...</td>\n",
       "      <td>NaN</td>\n",
       "      <td>0</td>\n",
       "      <td>0.0</td>\n",
       "      <td>NaN</td>\n",
       "      <td>0</td>\n",
       "      <td>NaN</td>\n",
       "      <td>NaN</td>\n",
       "      <td>0</td>\n",
       "      <td>0</td>\n",
       "      <td>0</td>\n",
       "    </tr>\n",
       "  </tbody>\n",
       "</table>\n",
       "<p>5 rows × 27 columns</p>\n",
       "</div>"
      ],
      "text/plain": [
       "   Case  CC3  Country    Year Banking Crisis  Banking_Crisis_Notes  \\\n",
       "0   NaN  NaN      NaN     NaN               x                  NaN   \n",
       "1   1.0  DZA  Algeria  1800.0               0                  NaN   \n",
       "2   1.0  DZA  Algeria  1801.0               0                  NaN   \n",
       "3   1.0  DZA  Algeria  1802.0               0                  NaN   \n",
       "4   1.0  DZA  Algeria  1803.0               0                  NaN   \n",
       "\n",
       "  Systemic Crisis Gold Standard exch_usd  exch_usd_alt1  ...  \\\n",
       "0               x             x      NaN            NaN  ...   \n",
       "1               0             0      NaN            NaN  ...   \n",
       "2               0             0      NaN            NaN  ...   \n",
       "3               0             0      NaN            NaN  ...   \n",
       "4               0             0      NaN            NaN  ...   \n",
       "\n",
       "  Domestic_Debt_ Notes/Sources  \\\n",
       "0                          NaN   \n",
       "1                          NaN   \n",
       "2                          NaN   \n",
       "3                          NaN   \n",
       "4                          NaN   \n",
       "\n",
       "  SOVEREIGN EXTERNAL DEBT 1: DEFAULT and RESTRUCTURINGS, 1800-2012--Does not include defaults on WWI debt to United States and United Kingdom and post-1975 defaults on Official External Creditors  \\\n",
       "0                                                  x                                                                                                                                                  \n",
       "1                                                  0                                                                                                                                                  \n",
       "2                                                  0                                                                                                                                                  \n",
       "3                                                  0                                                                                                                                                  \n",
       "4                                                  0                                                                                                                                                  \n",
       "\n",
       "  SOVEREIGN EXTERNAL DEBT 2: DEFAULT and RESTRUCTURINGS, 1800-2012--Does not include defaults on WWI debt to United States and United Kingdom but includes post-1975 defaults on Official External Creditors  \\\n",
       "0                                                NaN                                                                                                                                                           \n",
       "1                                                0.0                                                                                                                                                           \n",
       "2                                                0.0                                                                                                                                                           \n",
       "3                                                0.0                                                                                                                                                           \n",
       "4                                                0.0                                                                                                                                                           \n",
       "\n",
       "  Defaults_External_Notes GDP_Weighted_default    <  \\\n",
       "0                     NaN                    x    x   \n",
       "1                     NaN                    0  NaN   \n",
       "2                     NaN                    0  NaN   \n",
       "3                     NaN                    0  NaN   \n",
       "4                     NaN                    0  NaN   \n",
       "\n",
       "  Inflation, Annual percentages of average consumer prices Independence  \\\n",
       "0                                                NaN                  x   \n",
       "1                                                NaN                  0   \n",
       "2                                                NaN                  0   \n",
       "3                                                NaN                  0   \n",
       "4                                                NaN                  0   \n",
       "\n",
       "  Currency Crises  Inflation Crises  \n",
       "0               x                 x  \n",
       "1               0                 0  \n",
       "2               0                 0  \n",
       "3               0                 0  \n",
       "4               0                 0  \n",
       "\n",
       "[5 rows x 27 columns]"
      ]
     },
     "execution_count": 140,
     "metadata": {},
     "output_type": "execute_result"
    }
   ],
   "source": [
    "print(data.shape)\n",
    "data.head()"
   ]
  },
  {
   "cell_type": "code",
   "execution_count": 141,
   "metadata": {},
   "outputs": [
    {
     "data": {
      "text/plain": [
       "Index(['Case', 'CC3', 'Country', 'Year', 'Banking Crisis ',\n",
       "       'Banking_Crisis_Notes', 'Systemic Crisis', 'Gold Standard', 'exch_usd',\n",
       "       'exch_usd_alt1', 'exch_usd_alt2', 'exch_usd_alt3', 'conversion_notes',\n",
       "       'national currency', 'exch_primary source code', 'exch_sources',\n",
       "       'Domestic_Debt_In_Default', 'Domestic_Debt_ Notes/Sources',\n",
       "       'SOVEREIGN EXTERNAL DEBT 1: DEFAULT and RESTRUCTURINGS, 1800-2012--Does not include defaults on WWI debt to United States and United Kingdom and post-1975 defaults on Official External Creditors',\n",
       "       'SOVEREIGN EXTERNAL DEBT 2: DEFAULT and RESTRUCTURINGS, 1800-2012--Does not include defaults on WWI debt to United States and United Kingdom but includes post-1975 defaults on Official External Creditors',\n",
       "       'Defaults_External_Notes', 'GDP_Weighted_default', '<',\n",
       "       'Inflation, Annual percentages of average consumer prices',\n",
       "       'Independence', 'Currency Crises', 'Inflation Crises'],\n",
       "      dtype='object')"
      ]
     },
     "execution_count": 141,
     "metadata": {},
     "output_type": "execute_result"
    }
   ],
   "source": [
    "data.columns"
   ]
  },
  {
   "cell_type": "code",
   "execution_count": 142,
   "metadata": {},
   "outputs": [],
   "source": [
    "data.rename(columns={'Banking Crisis ':'banking_crisis',\n",
    "                    'Systemic Crisis':'systemic_crisis',\n",
    "                    'Banking_Crisis_Notes':'notes',\n",
    "                    'Gold Standard':'gold_standard',\n",
    "                    'SOVEREIGN EXTERNAL DEBT 1: DEFAULT and RESTRUCTURINGS, 1800-2012--Does not include defaults on WWI debt to United States and United Kingdom and post-1975 defaults on Official External Creditors': 'sovereign_external_debt_1',\n",
    "                    'SOVEREIGN EXTERNAL DEBT 2: DEFAULT and RESTRUCTURINGS, 1800-2012--Does not include defaults on WWI debt to United States and United Kingdom but includes post-1975 defaults on Official External Creditors': 'sovereign_external_debt_2',\n",
    "                    'Inflation, Annual percentages of average consumer prices':'annual_inflation'},\n",
    "            inplace = True)"
   ]
  },
  {
   "cell_type": "code",
   "execution_count": 143,
   "metadata": {},
   "outputs": [
    {
     "data": {
      "text/plain": [
       "(15190, 27)"
      ]
     },
     "execution_count": 143,
     "metadata": {},
     "output_type": "execute_result"
    }
   ],
   "source": [
    "data.drop(0, inplace = True)\n",
    "data.shape"
   ]
  },
  {
   "cell_type": "markdown",
   "metadata": {},
   "source": [
    "# 1. Description of the \"Global Crises Data by Country\" dataset"
   ]
  },
  {
   "cell_type": "markdown",
   "metadata": {},
   "source": [
    "## 1.1 Get the number of crisis per country"
   ]
  },
  {
   "cell_type": "code",
   "execution_count": 280,
   "metadata": {},
   "outputs": [
    {
     "name": "stdout",
     "output_type": "stream",
     "text": [
      "There are data of 70 countries in the dataset from 1800 to 2016.\n"
     ]
    }
   ],
   "source": [
    "nb_countries = data[\"Country\"].nunique()\n",
    "min_year = int(data[\"Year\"].min())\n",
    "max_year = int(data[\"Year\"].max())\n",
    "nb_observations = max_year - min_year +1\n",
    "print(f\"There are data of {nb_countries} countries in the dataset from {min_year} to {max_year}.\")"
   ]
  },
  {
   "cell_type": "code",
   "execution_count": 226,
   "metadata": {},
   "outputs": [],
   "source": [
    "data['banking_crisis'] = pd.to_numeric(data['banking_crisis'], errors='coerce')\n",
    "data['systemic_crisis'] = pd.to_numeric(data['systemic_crisis'], errors='coerce')\n",
    "data['annual_inflation'] = pd.to_numeric(data['annual_inflation'], errors='coerce')"
   ]
  },
  {
   "cell_type": "code",
   "execution_count": 215,
   "metadata": {},
   "outputs": [],
   "source": [
    "banking_crisis_per_country = data.groupby('Country')['banking_crisis'].sum().astype(int)\n",
    "systemic_crisis_per_country = data.groupby('Country')['systemic_crisis'].sum().astype(int)\n",
    "countries = data['CC3'].unique()"
   ]
  },
  {
   "cell_type": "code",
   "execution_count": 210,
   "metadata": {},
   "outputs": [],
   "source": [
    "results = pd.DataFrame({\n",
    "                     'banking_crisis_number': banking_crisis_per_country,\n",
    "                     'systemic_crisis_number': systemic_crisis_per_country})\n",
    "results.sort_values(by='banking_crisis_number', ascending=False, inplace = True)"
   ]
  },
  {
   "cell_type": "code",
   "execution_count": 220,
   "metadata": {},
   "outputs": [
    {
     "data": {
      "text/plain": [
       "<BarContainer object of 70 artists>"
      ]
     },
     "execution_count": 220,
     "metadata": {},
     "output_type": "execute_result"
    },
    {
     "data": {
      "image/png": "[encoded data removed]",
      "text/plain": [
       "<Figure size 1300x600 with 1 Axes>"
      ]
     },
     "metadata": {},
     "output_type": "display_data"
    }
   ],
   "source": [
    "plt.figure(figsize=(13,6))\n",
    "plt.bar(countries, results['banking_crisis_number'])"
   ]
  },
  {
   "cell_type": "code",
   "execution_count": 221,
   "metadata": {},
   "outputs": [
    {
     "name": "stdout",
     "output_type": "stream",
     "text": [
      "             banking_crisis_number  systemic_crisis_number\n",
      "Country                                                   \n",
      "Panama                           2                       2\n",
      "Singapore                        1                       0\n",
      "Mauritius                        1                       0\n",
      "Switzerland                      0                       5\n",
      "Ireland                          0                      10\n",
      "                banking_crisis_number  systemic_crisis_number\n",
      "Country                                                      \n",
      "United States                      33                      20\n",
      "United Kingdom                     33                      20\n",
      "Spain                              30                      13\n",
      "France                             26                      15\n",
      "Italy                              26                       7\n"
     ]
    }
   ],
   "source": [
    "print(results.tail())\n",
    "print(results.head())"
   ]
  },
  {
   "cell_type": "markdown",
   "metadata": {},
   "source": [
    "## 1.2 Get the number of negative liquidity shock per country"
   ]
  },
  {
   "cell_type": "markdown",
   "metadata": {},
   "source": [
    "### 1.2.1 Number of episode of deflation crisis"
   ]
  },
  {
   "cell_type": "code",
   "execution_count": 229,
   "metadata": {},
   "outputs": [
    {
     "data": {
      "text/plain": [
       "Country\n",
       "United States     14\n",
       "United Kingdom    12\n",
       "Japan             11\n",
       "France            10\n",
       "Sweden            10\n",
       "                  ..\n",
       "Morocco            0\n",
       "Myanmar            0\n",
       "New Zealand        0\n",
       "Nicaragua          0\n",
       "Korea              0\n",
       "Name: crisis_and_deflation, Length: 70, dtype: int64"
      ]
     },
     "execution_count": 229,
     "metadata": {},
     "output_type": "execute_result"
    }
   ],
   "source": [
    "data['crisis_and_deflation'] = ((data['banking_crisis'] == 1) | (data['systemic_crisis'] == 1)) & (data['annual_inflation'] < 0)\n",
    "deflations_crisis = data.groupby('Country')['crisis_and_deflation'].sum().astype(int)\n",
    "deflations_crisis.sort_values(ascending = False)"
   ]
  },
  {
   "cell_type": "markdown",
   "metadata": {},
   "source": [
    "### 1.2.3 Frequency of a negative demand shock from every year of the dataset"
   ]
  },
  {
   "cell_type": "code",
   "execution_count": 281,
   "metadata": {},
   "outputs": [],
   "source": [
    "frequency = (deflations_crisis / nb_observations).round(2)\n",
    "deflation = pd.DataFrame({'deflation episode' : deflations_crisis,\n",
    "                          'frequency_deflation' : frequency})\n",
    "deflation.sort_values(by ='deflation episode', ascending=False, inplace=True)"
   ]
  },
  {
   "cell_type": "code",
   "execution_count": 262,
   "metadata": {},
   "outputs": [
    {
     "data": {
      "text/plain": [
       "2.342857142857143"
      ]
     },
     "execution_count": 262,
     "metadata": {},
     "output_type": "execute_result"
    }
   ],
   "source": [
    "deflation['deflation episode'].mean()"
   ]
  },
  {
   "cell_type": "code",
   "execution_count": 266,
   "metadata": {},
   "outputs": [
    {
     "data": {
      "text/plain": [
       "['Zimbabwe',\n",
       " 'Finland',\n",
       " \"CoteD'Ivoire\",\n",
       " 'Uruguay',\n",
       " 'Philippines',\n",
       " 'Chile',\n",
       " 'Egypt']"
      ]
     },
     "execution_count": 266,
     "metadata": {},
     "output_type": "execute_result"
    }
   ],
   "source": [
    "countries_a = deflation.index[deflation['deflation episode']==1].tolist()\n",
    "countries_a"
   ]
  },
  {
   "cell_type": "code",
   "execution_count": 267,
   "metadata": {},
   "outputs": [
    {
     "data": {
      "text/plain": [
       "['Italy', 'Poland', 'Russia', 'Austria', 'Argentina', 'Hungary']"
      ]
     },
     "execution_count": 267,
     "metadata": {},
     "output_type": "execute_result"
    }
   ],
   "source": [
    "countries_b = deflation.index[deflation['deflation episode']==3].tolist()\n",
    "countries_b"
   ]
  },
  {
   "cell_type": "code",
   "execution_count": 276,
   "metadata": {},
   "outputs": [
    {
     "data": {
      "text/plain": [
       "['United States', 'United Kingdom', 'Japan', 'France', 'Sweden']"
      ]
     },
     "execution_count": 276,
     "metadata": {},
     "output_type": "execute_result"
    }
   ],
   "source": [
    "countries_c = deflation.head().index.tolist()\n",
    "countries_c"
   ]
  },
  {
   "cell_type": "markdown",
   "metadata": {},
   "source": [
    "# 2. Look for specific negative demand shock episode"
   ]
  },
  {
   "cell_type": "markdown",
   "metadata": {},
   "source": [
    "### 2.1 Focus on the US "
   ]
  },
  {
   "cell_type": "code",
   "execution_count": 282,
   "metadata": {},
   "outputs": [
    {
     "data": {
      "text/html": [
       "<div>\n",
       "<style scoped>\n",
       "    .dataframe tbody tr th:only-of-type {\n",
       "        vertical-align: middle;\n",
       "    }\n",
       "\n",
       "    .dataframe tbody tr th {\n",
       "        vertical-align: top;\n",
       "    }\n",
       "\n",
       "    .dataframe thead th {\n",
       "        text-align: right;\n",
       "    }\n",
       "</style>\n",
       "<table border=\"1\" class=\"dataframe\">\n",
       "  <thead>\n",
       "    <tr style=\"text-align: right;\">\n",
       "      <th></th>\n",
       "      <th>Case</th>\n",
       "      <th>CC3</th>\n",
       "      <th>Country</th>\n",
       "      <th>Year</th>\n",
       "      <th>banking_crisis</th>\n",
       "      <th>notes</th>\n",
       "      <th>systemic_crisis</th>\n",
       "      <th>gold_standard</th>\n",
       "      <th>exch_usd</th>\n",
       "      <th>exch_usd_alt1</th>\n",
       "      <th>...</th>\n",
       "      <th>sovereign_external_debt_1</th>\n",
       "      <th>sovereign_external_debt_2</th>\n",
       "      <th>Defaults_External_Notes</th>\n",
       "      <th>GDP_Weighted_default</th>\n",
       "      <th>&lt;</th>\n",
       "      <th>annual_inflation</th>\n",
       "      <th>Independence</th>\n",
       "      <th>Currency Crises</th>\n",
       "      <th>Inflation Crises</th>\n",
       "      <th>crisis_and_deflation</th>\n",
       "    </tr>\n",
       "  </thead>\n",
       "  <tbody>\n",
       "    <tr>\n",
       "      <th>14106</th>\n",
       "      <td>66.0</td>\n",
       "      <td>USA</td>\n",
       "      <td>United States</td>\n",
       "      <td>1800.0</td>\n",
       "      <td>0.0</td>\n",
       "      <td>NaN</td>\n",
       "      <td>0.0</td>\n",
       "      <td>0</td>\n",
       "      <td>4.462293619</td>\n",
       "      <td>NaN</td>\n",
       "      <td>...</td>\n",
       "      <td>0</td>\n",
       "      <td>0.0</td>\n",
       "      <td>NaN</td>\n",
       "      <td>0</td>\n",
       "      <td>1</td>\n",
       "      <td>2.0</td>\n",
       "      <td>1</td>\n",
       "      <td>0</td>\n",
       "      <td>0</td>\n",
       "      <td>False</td>\n",
       "    </tr>\n",
       "    <tr>\n",
       "      <th>14107</th>\n",
       "      <td>66.0</td>\n",
       "      <td>USA</td>\n",
       "      <td>United States</td>\n",
       "      <td>1801.0</td>\n",
       "      <td>0.0</td>\n",
       "      <td>NaN</td>\n",
       "      <td>0.0</td>\n",
       "      <td>0</td>\n",
       "      <td>4.363001745</td>\n",
       "      <td>NaN</td>\n",
       "      <td>...</td>\n",
       "      <td>0</td>\n",
       "      <td>0.0</td>\n",
       "      <td>NaN</td>\n",
       "      <td>0</td>\n",
       "      <td>0</td>\n",
       "      <td>1.3</td>\n",
       "      <td>1</td>\n",
       "      <td>0</td>\n",
       "      <td>0</td>\n",
       "      <td>False</td>\n",
       "    </tr>\n",
       "    <tr>\n",
       "      <th>14108</th>\n",
       "      <td>66.0</td>\n",
       "      <td>USA</td>\n",
       "      <td>United States</td>\n",
       "      <td>1802.0</td>\n",
       "      <td>0.0</td>\n",
       "      <td>NaN</td>\n",
       "      <td>0.0</td>\n",
       "      <td>0</td>\n",
       "      <td>4.474272931</td>\n",
       "      <td>NaN</td>\n",
       "      <td>...</td>\n",
       "      <td>0</td>\n",
       "      <td>0.0</td>\n",
       "      <td>NaN</td>\n",
       "      <td>0</td>\n",
       "      <td>0</td>\n",
       "      <td>-15.7</td>\n",
       "      <td>1</td>\n",
       "      <td>0</td>\n",
       "      <td>0</td>\n",
       "      <td>False</td>\n",
       "    </tr>\n",
       "    <tr>\n",
       "      <th>14109</th>\n",
       "      <td>66.0</td>\n",
       "      <td>USA</td>\n",
       "      <td>United States</td>\n",
       "      <td>1803.0</td>\n",
       "      <td>0.0</td>\n",
       "      <td>NaN</td>\n",
       "      <td>0.0</td>\n",
       "      <td>0</td>\n",
       "      <td>4.662004662</td>\n",
       "      <td>NaN</td>\n",
       "      <td>...</td>\n",
       "      <td>0</td>\n",
       "      <td>0.0</td>\n",
       "      <td>NaN</td>\n",
       "      <td>0</td>\n",
       "      <td>0</td>\n",
       "      <td>5.4</td>\n",
       "      <td>1</td>\n",
       "      <td>0</td>\n",
       "      <td>0</td>\n",
       "      <td>False</td>\n",
       "    </tr>\n",
       "    <tr>\n",
       "      <th>14110</th>\n",
       "      <td>66.0</td>\n",
       "      <td>USA</td>\n",
       "      <td>United States</td>\n",
       "      <td>1804.0</td>\n",
       "      <td>0.0</td>\n",
       "      <td>NaN</td>\n",
       "      <td>0.0</td>\n",
       "      <td>0</td>\n",
       "      <td>4.528985507</td>\n",
       "      <td>NaN</td>\n",
       "      <td>...</td>\n",
       "      <td>0</td>\n",
       "      <td>0.0</td>\n",
       "      <td>NaN</td>\n",
       "      <td>0</td>\n",
       "      <td>0</td>\n",
       "      <td>4.4</td>\n",
       "      <td>1</td>\n",
       "      <td>0</td>\n",
       "      <td>0</td>\n",
       "      <td>False</td>\n",
       "    </tr>\n",
       "    <tr>\n",
       "      <th>...</th>\n",
       "      <td>...</td>\n",
       "      <td>...</td>\n",
       "      <td>...</td>\n",
       "      <td>...</td>\n",
       "      <td>...</td>\n",
       "      <td>...</td>\n",
       "      <td>...</td>\n",
       "      <td>...</td>\n",
       "      <td>...</td>\n",
       "      <td>...</td>\n",
       "      <td>...</td>\n",
       "      <td>...</td>\n",
       "      <td>...</td>\n",
       "      <td>...</td>\n",
       "      <td>...</td>\n",
       "      <td>...</td>\n",
       "      <td>...</td>\n",
       "      <td>...</td>\n",
       "      <td>...</td>\n",
       "      <td>...</td>\n",
       "      <td>...</td>\n",
       "    </tr>\n",
       "    <tr>\n",
       "      <th>14318</th>\n",
       "      <td>66.0</td>\n",
       "      <td>USA</td>\n",
       "      <td>United States</td>\n",
       "      <td>2012.0</td>\n",
       "      <td>0.0</td>\n",
       "      <td>NaN</td>\n",
       "      <td>0.0</td>\n",
       "      <td>0</td>\n",
       "      <td>1.6251</td>\n",
       "      <td>NaN</td>\n",
       "      <td>...</td>\n",
       "      <td>0</td>\n",
       "      <td>0.0</td>\n",
       "      <td>NaN</td>\n",
       "      <td>0</td>\n",
       "      <td>0</td>\n",
       "      <td>2.1</td>\n",
       "      <td>1</td>\n",
       "      <td>0</td>\n",
       "      <td>0</td>\n",
       "      <td>False</td>\n",
       "    </tr>\n",
       "    <tr>\n",
       "      <th>14319</th>\n",
       "      <td>66.0</td>\n",
       "      <td>USA</td>\n",
       "      <td>United States</td>\n",
       "      <td>2013.0</td>\n",
       "      <td>0.0</td>\n",
       "      <td>NaN</td>\n",
       "      <td>0.0</td>\n",
       "      <td>0</td>\n",
       "      <td>1.6556</td>\n",
       "      <td>NaN</td>\n",
       "      <td>...</td>\n",
       "      <td>0</td>\n",
       "      <td>0.0</td>\n",
       "      <td>NaN</td>\n",
       "      <td>0</td>\n",
       "      <td>0</td>\n",
       "      <td>1.5</td>\n",
       "      <td>1</td>\n",
       "      <td>0</td>\n",
       "      <td>0</td>\n",
       "      <td>False</td>\n",
       "    </tr>\n",
       "    <tr>\n",
       "      <th>14320</th>\n",
       "      <td>66.0</td>\n",
       "      <td>USA</td>\n",
       "      <td>United States</td>\n",
       "      <td>2014.0</td>\n",
       "      <td>0.0</td>\n",
       "      <td>NaN</td>\n",
       "      <td>0.0</td>\n",
       "      <td>0</td>\n",
       "      <td>1.5573</td>\n",
       "      <td>NaN</td>\n",
       "      <td>...</td>\n",
       "      <td>0</td>\n",
       "      <td>0.0</td>\n",
       "      <td>NaN</td>\n",
       "      <td>0</td>\n",
       "      <td>0</td>\n",
       "      <td>1.6</td>\n",
       "      <td>1</td>\n",
       "      <td>0</td>\n",
       "      <td>0</td>\n",
       "      <td>False</td>\n",
       "    </tr>\n",
       "    <tr>\n",
       "      <th>14321</th>\n",
       "      <td>66.0</td>\n",
       "      <td>USA</td>\n",
       "      <td>United States</td>\n",
       "      <td>2015.0</td>\n",
       "      <td>NaN</td>\n",
       "      <td>NaN</td>\n",
       "      <td>0.0</td>\n",
       "      <td>0</td>\n",
       "      <td>1.4738</td>\n",
       "      <td>NaN</td>\n",
       "      <td>...</td>\n",
       "      <td>0</td>\n",
       "      <td>0.0</td>\n",
       "      <td>NaN</td>\n",
       "      <td>0</td>\n",
       "      <td>0</td>\n",
       "      <td>0.1</td>\n",
       "      <td>1</td>\n",
       "      <td>0</td>\n",
       "      <td>NaN</td>\n",
       "      <td>False</td>\n",
       "    </tr>\n",
       "    <tr>\n",
       "      <th>14322</th>\n",
       "      <td>66.0</td>\n",
       "      <td>USA</td>\n",
       "      <td>United States</td>\n",
       "      <td>2016.0</td>\n",
       "      <td>NaN</td>\n",
       "      <td>NaN</td>\n",
       "      <td>0.0</td>\n",
       "      <td>0</td>\n",
       "      <td>1.334</td>\n",
       "      <td>NaN</td>\n",
       "      <td>...</td>\n",
       "      <td>0</td>\n",
       "      <td>0.0</td>\n",
       "      <td>NaN</td>\n",
       "      <td>0</td>\n",
       "      <td>NaN</td>\n",
       "      <td>0.8</td>\n",
       "      <td>1</td>\n",
       "      <td>0</td>\n",
       "      <td>NaN</td>\n",
       "      <td>False</td>\n",
       "    </tr>\n",
       "  </tbody>\n",
       "</table>\n",
       "<p>217 rows × 28 columns</p>\n",
       "</div>"
      ],
      "text/plain": [
       "       Case  CC3        Country    Year  banking_crisis notes  \\\n",
       "14106  66.0  USA  United States  1800.0             0.0   NaN   \n",
       "14107  66.0  USA  United States  1801.0             0.0   NaN   \n",
       "14108  66.0  USA  United States  1802.0             0.0   NaN   \n",
       "14109  66.0  USA  United States  1803.0             0.0   NaN   \n",
       "14110  66.0  USA  United States  1804.0             0.0   NaN   \n",
       "...     ...  ...            ...     ...             ...   ...   \n",
       "14318  66.0  USA  United States  2012.0             0.0   NaN   \n",
       "14319  66.0  USA  United States  2013.0             0.0   NaN   \n",
       "14320  66.0  USA  United States  2014.0             0.0   NaN   \n",
       "14321  66.0  USA  United States  2015.0             NaN   NaN   \n",
       "14322  66.0  USA  United States  2016.0             NaN   NaN   \n",
       "\n",
       "       systemic_crisis gold_standard     exch_usd  exch_usd_alt1  ...  \\\n",
       "14106              0.0             0  4.462293619            NaN  ...   \n",
       "14107              0.0             0  4.363001745            NaN  ...   \n",
       "14108              0.0             0  4.474272931            NaN  ...   \n",
       "14109              0.0             0  4.662004662            NaN  ...   \n",
       "14110              0.0             0  4.528985507            NaN  ...   \n",
       "...                ...           ...          ...            ...  ...   \n",
       "14318              0.0             0       1.6251            NaN  ...   \n",
       "14319              0.0             0       1.6556            NaN  ...   \n",
       "14320              0.0             0       1.5573            NaN  ...   \n",
       "14321              0.0             0       1.4738            NaN  ...   \n",
       "14322              0.0             0        1.334            NaN  ...   \n",
       "\n",
       "      sovereign_external_debt_1 sovereign_external_debt_2  \\\n",
       "14106                         0                       0.0   \n",
       "14107                         0                       0.0   \n",
       "14108                         0                       0.0   \n",
       "14109                         0                       0.0   \n",
       "14110                         0                       0.0   \n",
       "...                         ...                       ...   \n",
       "14318                         0                       0.0   \n",
       "14319                         0                       0.0   \n",
       "14320                         0                       0.0   \n",
       "14321                         0                       0.0   \n",
       "14322                         0                       0.0   \n",
       "\n",
       "      Defaults_External_Notes GDP_Weighted_default    < annual_inflation  \\\n",
       "14106                     NaN                    0    1              2.0   \n",
       "14107                     NaN                    0    0              1.3   \n",
       "14108                     NaN                    0    0            -15.7   \n",
       "14109                     NaN                    0    0              5.4   \n",
       "14110                     NaN                    0    0              4.4   \n",
       "...                       ...                  ...  ...              ...   \n",
       "14318                     NaN                    0    0              2.1   \n",
       "14319                     NaN                    0    0              1.5   \n",
       "14320                     NaN                    0    0              1.6   \n",
       "14321                     NaN                    0    0              0.1   \n",
       "14322                     NaN                    0  NaN              0.8   \n",
       "\n",
       "      Independence Currency Crises Inflation Crises  crisis_and_deflation  \n",
       "14106            1               0                0                 False  \n",
       "14107            1               0                0                 False  \n",
       "14108            1               0                0                 False  \n",
       "14109            1               0                0                 False  \n",
       "14110            1               0                0                 False  \n",
       "...            ...             ...              ...                   ...  \n",
       "14318            1               0                0                 False  \n",
       "14319            1               0                0                 False  \n",
       "14320            1               0                0                 False  \n",
       "14321            1               0              NaN                 False  \n",
       "14322            1               0              NaN                 False  \n",
       "\n",
       "[217 rows x 28 columns]"
      ]
     },
     "execution_count": 282,
     "metadata": {},
     "output_type": "execute_result"
    }
   ],
   "source": [
    "USA_data = data[data[\"CC3\"]=='USA']\n",
    "USA_data"
   ]
  }
 ],
 "metadata": {
  "kernelspec": {
   "display_name": "ISER",
   "language": "python",
   "name": "python3"
  },
  "language_info": {
   "codemirror_mode": {
    "name": "ipython",
    "version": 3
   },
   "file_extension": ".py",
   "mimetype": "text/x-python",
   "name": "python",
   "nbconvert_exporter": "python",
   "pygments_lexer": "ipython3",
   "version": "3.10.6"
  }
 },
 "nbformat": 4,
 "nbformat_minor": 2
}
